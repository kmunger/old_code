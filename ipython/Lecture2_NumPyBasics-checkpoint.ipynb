{
 "metadata": {
  "name": ""
 },
 "nbformat": 3,
 "nbformat_minor": 0,
 "worksheets": [
  {
   "cells": [
    {
     "cell_type": "code",
     "collapsed": false,
     "input": [
      "'''\n",
      "The core data type in Numpy is the ndarray, which enables fast and space-efficient multidimensional array processing.\n",
      "Note: This notebook is adapted from chapter 4 Python for Data Analysis by Wes McKinney and O'Reilly publishing. NumPy has many, \n",
      "many features that won't be covered here. The following snippets are just to illustrate basic data types and operations within\n",
      "numpy.\n",
      "\n",
      "Another good resource for learning more about ndarrays is here:\n",
      "http://docs.scipy.org/doc/numpy/reference/arrays.html\n",
      "'''\n",
      "\n",
      "#First, import NumPy\n",
      "import numpy as np\n",
      "\n",
      "#It is easy to create Nx1 and NxM arrays from standard Python lists\n",
      "l1=[0,1,2]\n",
      "l2=[3,4,5]\n",
      "\n",
      "nd1=np.array(l1)\n",
      "nd2=np.array([l1,l2])"
     ],
     "language": "python",
     "metadata": {},
     "outputs": [],
     "prompt_number": 3
    },
    {
     "cell_type": "code",
     "collapsed": false,
     "input": [
      "#Now, we can get ask for some basic info to describe the ndarray\n",
      "def desc_ndarray(nd):\n",
      "    try:\n",
      "        print \"The ndarray has dimension n=%s and m=%s\" % (nd.shape[0],nd.shape[1])\n",
      "    except:\n",
      "        print \"The ndarray has dimension n=%s and m=1\" % nd.shape[0]\n",
      "    print \"The ndarray has elements of type=%s\" % nd.dtype\n",
      "\n",
      "desc_ndarray(nd1)\n",
      "\n",
      "desc_ndarray(nd2)\n",
      "\n"
     ],
     "language": "python",
     "metadata": {},
     "outputs": [
      {
       "output_type": "stream",
       "stream": "stdout",
       "text": [
        "The ndarray has dimension n=3 and m=1\n",
        "The ndarray has elements of type=int64\n",
        "The ndarray has dimension n=2 and m=3\n",
        "The ndarray has elements of type=int64\n"
       ]
      }
     ],
     "prompt_number": 30
    },
    {
     "cell_type": "code",
     "collapsed": false,
     "input": [
      "#There are short cuts for creating certain frequently used special ndarrays, i.e.,\n",
      "\n",
      "k=4\n",
      "\n",
      "#1. an ndarray of all zeros\n",
      "zero=np.zeros(k)\n",
      "\n",
      "#2. an ndarray of all ones\n",
      "one=np.ones(k)\n",
      "\n",
      "#3. an ndarray of random elements (this one is standard normal, but there are many distributions to choose from)\n",
      "rand=np.random.randn(k)\n",
      "\n",
      "[zero,one,rand]"
     ],
     "language": "python",
     "metadata": {},
     "outputs": [
      {
       "metadata": {},
       "output_type": "pyout",
       "prompt_number": 31,
       "text": [
        "[array([ 0.,  0.,  0.,  0.]),\n",
        " array([ 1.,  1.,  1.,  1.]),\n",
        " array([-0.99274132,  0.64107238,  1.17401612, -0.63704326])]"
       ]
      }
     ],
     "prompt_number": 31
    },
    {
     "cell_type": "code",
     "collapsed": false,
     "input": [
      "'''\n",
      "For indexing an array:\n",
      "1. If nx1 array, follow the same protocol as a regular Python list\n",
      "2. If nxm array use the following examples\n",
      "'''\n",
      "\n",
      "arr2d=np.random.randn(4,2)\n",
      "\n",
      "#A single index gets a full row\n",
      "\n",
      "#2 indexes returns a value\n",
      "[arr2d,arr2d[1],arr2d[1,1]]"
     ],
     "language": "python",
     "metadata": {},
     "outputs": []
    },
    {
     "cell_type": "code",
     "collapsed": false,
     "input": [
      "'''\n",
      "Operations between Arrays and Scalars\n",
      "An important feature of ndarrays is they allow batch operations on data without writing any for loops.  \n",
      "This is called vectorization.\n",
      "Any arithmetic operations between equal-size arrays applies the operation elementwise. \n",
      "'''\n",
      "\n",
      "#examples\n",
      "\n",
      "k=4\n",
      "rand=np.random.randn(k)\n",
      "[rand, rand+rand, 2*rand, rand*np.zeros(4)]\n",
      "\n"
     ],
     "language": "python",
     "metadata": {},
     "outputs": [
      {
       "metadata": {},
       "output_type": "pyout",
       "prompt_number": 32,
       "text": [
        "[array([-1.44198773,  0.28015053,  2.04288036,  1.02144534]),\n",
        " array([-2.88397545,  0.56030107,  4.08576071,  2.04289068]),\n",
        " array([-2.88397545,  0.56030107,  4.08576071,  2.04289068]),\n",
        " array([-0.,  0.,  0.,  0.])]"
       ]
      }
     ],
     "prompt_number": 32
    },
    {
     "cell_type": "code",
     "collapsed": false,
     "input": [
      "'''\n",
      "Matrix operations\n",
      "It is easy to do matrix operations with Nd arrays. The standard arithmetic operators don't work here though. And it is important \n",
      "to make sure matrix shapes are compatible\n",
      "'''\n",
      "\n",
      "k=3\n",
      "r1=np.random.randn(k)\n",
      "r2=np.random.randn(k)\n",
      "\n",
      "#Matrix addition is the standard matrix operator\n",
      "[r1,r2,r1+r2]\n",
      "\n",
      "r1.T"
     ],
     "language": "python",
     "metadata": {},
     "outputs": [
      {
       "metadata": {},
       "output_type": "pyout",
       "prompt_number": 38,
       "text": [
        "array([-0.91231398, -0.44409709, -0.25214553])"
       ]
      }
     ],
     "prompt_number": 38
    },
    {
     "cell_type": "code",
     "collapsed": false,
     "input": [
      "#The Transpose can be taken with the attribute T\n",
      "arr2d=np.array([r1,r2])\n",
      "[arr2d,arr2d.T]"
     ],
     "language": "python",
     "metadata": {},
     "outputs": [
      {
       "metadata": {},
       "output_type": "pyout",
       "prompt_number": 42,
       "text": [
        "[array([[-0.91231398, -0.44409709, -0.25214553],\n",
        "       [-0.58827807,  0.24263483, -0.12916763]]),\n",
        " array([[-0.91231398, -0.58827807],\n",
        "       [-0.44409709,  0.24263483],\n",
        "       [-0.25214553, -0.12916763]])]"
       ]
      }
     ],
     "prompt_number": 42
    },
    {
     "cell_type": "code",
     "collapsed": false,
     "input": [
      "'''\n",
      "Matrix multiplication, like inner products can be done on arrays.\n",
      "Just remember that the standard multiplication operator does elementwise multiplication (provided they are the same shape).\n",
      "We need the dot method in order to do an inner product\n",
      "\n",
      "Numpy has a linalg library that can run most matrix operations on ndarrays:\n",
      "http://docs.scipy.org/doc/numpy/reference/routines.linalg.html\n",
      "\n",
      "One can also create a matrix object and use the methods in numpy.matrix to achieve the same thing:\n",
      "http://docs.scipy.org/doc/numpy/reference/generated/numpy.matrix.html\n",
      "'''\n",
      "\n",
      "[arr2d,arr2d*arr2d,arr2d.dot(arr2d.T)]"
     ],
     "language": "python",
     "metadata": {},
     "outputs": [
      {
       "metadata": {},
       "output_type": "pyout",
       "prompt_number": 45,
       "text": [
        "[array([[-0.91231398, -0.44409709, -0.25214553],\n",
        "       [-0.58827807,  0.24263483, -0.12916763]]),\n",
        " array([[ 0.8323168 ,  0.19722222,  0.06357737],\n",
        "       [ 0.34607109,  0.05887166,  0.01668428]]),\n",
        " array([[ 1.09311639,  0.46150993],\n",
        "       [ 0.46150993,  0.42162703]])]"
       ]
      }
     ],
     "prompt_number": 45
    },
    {
     "cell_type": "code",
     "collapsed": false,
     "input": [
      "'''\n",
      "One important feature of vectorization is that it allows elementwise processing that is much faster than writing a traditional\n",
      "loop.\n",
      "'''\n",
      "\n",
      "#show an example and profile i\n",
      "%timeit [math.sqrt(x) for x in range(1000)]"
     ],
     "language": "python",
     "metadata": {},
     "outputs": [
      {
       "output_type": "stream",
       "stream": "stdout",
       "text": [
        "10000 loops, best of 3: 116 \u00b5s per loop\n"
       ]
      }
     ],
     "prompt_number": 56
    },
    {
     "cell_type": "code",
     "collapsed": false,
     "input": [
      "%timeit np.sqrt(np.arange(1000))"
     ],
     "language": "python",
     "metadata": {},
     "outputs": [
      {
       "output_type": "stream",
       "stream": "stdout",
       "text": [
        "100000 loops, best of 3: 8.17 \u00b5s per loop\n"
       ]
      }
     ],
     "prompt_number": 57
    },
    {
     "cell_type": "code",
     "collapsed": false,
     "input": [
      "'''\n",
      "The last thing we'll cover in this module is the numpy.random library. In general, it is advised to use numpy for\n",
      "random number generation as opposed to python's built in random module.\n",
      "\n",
      "Randome number generation has many uses. One common use is generating fake (i.e. random) data to test modeling procedures\n",
      "or to do Monte Carlo Simulations\n",
      "'''\n",
      "#Generate random pairs that have a multivariate normal distribution\n",
      "N=1000\n",
      "mu=array([0,0])\n",
      "cov=0.5\n",
      "sig=array([[1,cov],[cov,1]]) #Must be square, symmetric and non-negative definite\n",
      "x,y=np.random.multivariate_normal(mu,sig,N).T\n",
      "#Now let's plot and see what that looks like\n",
      "import matplotlib.pyplot as plt\n",
      "plt.plot(x,y,'x'); plt.axis('equal'); plt.show()\n",
      "\n"
     ],
     "language": "python",
     "metadata": {},
     "outputs": [],
     "prompt_number": 21
    },
    {
     "cell_type": "code",
     "collapsed": false,
     "input": [
      "'''\n",
      "One final example (taken from Wes Mckinney's book):\n",
      "\n",
      "Let's generate a random walk and visualize it\n",
      "'''\n",
      "import matplotlib.pyplot as plt\n",
      "\n",
      "nsteps=1000\n",
      "draws=np.random.randint(0,2,size=nsteps) #Randint let's us generate random integers in a range\n",
      "steps=np.where(draws>0,1,-1) #there function let's us do boolean logic on a conditional applied to an entire array\n",
      "walk=steps.cumsum() #Cumsum returns an array with the same size as steps, that has cum sum of steps up to index i\n",
      "plt.plot(arange(len(walk)),walk);plt.show()"
     ],
     "language": "python",
     "metadata": {},
     "outputs": [],
     "prompt_number": 30
    },
    {
     "cell_type": "code",
     "collapsed": false,
     "input": [],
     "language": "python",
     "metadata": {},
     "outputs": [],
     "prompt_number": 30
    },
    {
     "cell_type": "code",
     "collapsed": false,
     "input": [],
     "language": "python",
     "metadata": {},
     "outputs": []
    }
   ],
   "metadata": {}
  }
 ]
}