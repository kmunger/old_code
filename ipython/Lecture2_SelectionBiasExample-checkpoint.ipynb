{
 "metadata": {
  "name": ""
 },
 "nbformat": 3,
 "nbformat_minor": 0,
 "worksheets": [
  {
   "cells": [
    {
     "cell_type": "code",
     "collapsed": false,
     "input": [
      "'''\n",
      "In this module we demonstrate what happens to a model when selection bias is present in the data. \n",
      "'''\n",
      "\n",
      "\n",
      "import numpy as np\n",
      "import math\n",
      "import pandas as pd\n",
      "import matplotlib.pyplot as plt\n",
      "from sklearn import linear_model, datasets\n",
      "\n",
      "def getP(val):\n",
      "    '''\n",
      "    Get f(x) where f is the logistic function \n",
      "    '''\n",
      "    return (1+math.exp(-1*val))**-1\n",
      "\n",
      "def getY(val):\n",
      "    '''\n",
      "    Return a binary indicator based on a binomial draw with prob=f(val). f the logistic function.\n",
      "    '''\n",
      "    return (int(getP(val)>np.random.uniform(0,1,1)[0]))\n",
      "\n",
      "def gen_logistic_dataframe(n,alpha,betas):\n",
      "    '''\n",
      "    Aa function that generates a random logistic dataset\n",
      "    n is the number of samples\n",
      "    alpha, betas are the logistic truth\n",
      "    '''\n",
      "    X=np.random.random([n,len(betas)])\n",
      "    Y=map(getY,X.dot(betas)+alpha)\n",
      "    d=pd.DataFrame(X,columns=['x'+str(j) for j in range(X.shape[1])])\n",
      "    d['Y']=Y\n",
      "    return d"
     ],
     "language": "python",
     "metadata": {},
     "outputs": [],
     "prompt_number": 1
    },
    {
     "cell_type": "code",
     "collapsed": false,
     "input": [
      "'''\n",
      "Generate the data. Let's pretend like its a credit scoring situation. Alpha is low because defaults are usually rare. \n",
      "Let's pretend that we have to features, FICO score and Income. We'll assume that as these features increase in value,\n",
      "the likelihood of default goes down. We'll thus give betas a negative value.\n",
      "'''\n",
      "n=100000\n",
      "alpha=-3\n",
      "beta=np.array([-3,-1])\n",
      "data=gen_logistic_dataframe(n,alpha,beta)"
     ],
     "language": "python",
     "metadata": {},
     "outputs": [],
     "prompt_number": 2
    },
    {
     "cell_type": "code",
     "collapsed": false,
     "input": [
      "'''\n",
      "Let's build some models. \n",
      "1. We'll first build a model on the full dataset. The full dataset is meant to simulate the entire population\n",
      "2. We'll then simulate a credit scoring process:\n",
      "   a. Generate another dataset, but only 'accept' those users whose score > x\n",
      "   b. Build a model on the 'accepted' users\n",
      "'''\n",
      "#This is the so called credit scoring model\n",
      "credit_model = linear_model.LogisticRegression(C=1e30)\n",
      "credit_model.fit(data[['x0','x1']],data['Y'])\n",
      "\n",
      "#Now let's generate another dataset...but this time we're only going to take users that 'pass' the model\n",
      "#Because its a simulation, we can just take the top half of users.\n"
     ],
     "language": "python",
     "metadata": {},
     "outputs": [
      {
       "metadata": {},
       "output_type": "pyout",
       "prompt_number": 3,
       "text": [
        "LogisticRegression(C=1e+30, class_weight=None, dual=False, fit_intercept=True,\n",
        "          intercept_scaling=1, penalty='l2', random_state=None, tol=0.0001)"
       ]
      }
     ],
     "prompt_number": 3
    },
    {
     "cell_type": "code",
     "collapsed": false,
     "input": [],
     "language": "python",
     "metadata": {},
     "outputs": [
      {
       "metadata": {},
       "output_type": "pyout",
       "prompt_number": 5,
       "text": [
        "(array([[-2.93367387, -0.94058057]]), array([-3.10395888]))"
       ]
      }
     ],
     "prompt_number": 5
    },
    {
     "cell_type": "code",
     "collapsed": false,
     "input": [],
     "language": "python",
     "metadata": {},
     "outputs": []
    }
   ],
   "metadata": {}
  }
 ]
}