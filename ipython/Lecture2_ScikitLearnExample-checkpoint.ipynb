{
 "metadata": {
  "name": ""
 },
 "nbformat": 3,
 "nbformat_minor": 0,
 "worksheets": [
  {
   "cells": [
    {
     "cell_type": "code",
     "collapsed": false,
     "input": [
      "import numpy as np\n",
      "import math\n",
      "import pandas as pd\n",
      "import matplotlib.pyplot as plt\n",
      "from sklearn import linear_model, datasets\n",
      "\n",
      "\n",
      "def getP(val):\n",
      "    '''\n",
      "    Get f(x) where f is the logistic function \n",
      "    '''\n",
      "    return (1+math.exp(-1*val))**-1\n",
      "\n",
      "def getY(val):\n",
      "    '''\n",
      "    Return a binary indicator based on a binomial draw with prob=f(val). f the logistic function.\n",
      "    '''\n",
      "    return (int(getP(val)>np.random.uniform(0,1,1)[0]))\n",
      "\n",
      "def gen_logistic_dataframe(n,alpha,betas):\n",
      "    '''\n",
      "    Aa function that generates a random logistic dataset\n",
      "    n is the number of samples\n",
      "    alpha, betas are the logistic truth\n",
      "    '''\n",
      "    X=np.random.random([n,len(betas)])\n",
      "    Y=map(getY,X.dot(betas)+alpha)\n",
      "    d=pd.DataFrame(X,columns=['f'+str(j) for j in range(X.shape[1])])\n",
      "    d['Y']=Y\n",
      "    return d\n",
      "\n",
      "\n"
     ],
     "language": "python",
     "metadata": {},
     "outputs": [],
     "prompt_number": 5
    },
    {
     "cell_type": "code",
     "collapsed": false,
     "input": [
      "#Generate the data (note...to keep it a surprise we don't know what the actual coefficients are.\n",
      "n=100\n",
      "alpha=np.random.randint(-2,2)\n",
      "beta=np.array([np.random.randn()*2,np.random.randn()*2])\n",
      "data=gen_logistic_dataframe(n,alpha,beta)\n"
     ],
     "language": "python",
     "metadata": {},
     "outputs": [],
     "prompt_number": 157
    },
    {
     "cell_type": "code",
     "collapsed": false,
     "input": [
      "#Do a scatter plot of x1 vs x2 colored by Y\n",
      "plt.figure()\n",
      "plt.scatter(data['f0'][(data['Y']==0)].values,data['f1'][(data['Y']==0)].values,color='r')\n",
      "plt.scatter(data['f0'][(data['Y']==1)].values,data['f1'][(data['Y']==1)].values,color='b')\n",
      "plt.show()"
     ],
     "language": "python",
     "metadata": {},
     "outputs": [],
     "prompt_number": 139
    },
    {
     "cell_type": "code",
     "collapsed": false,
     "input": [
      "#Explore the effect of f0 and f1 by grouping and doing various tests\n",
      "cuts=np.arange(-20,20,2)/10.0\n",
      "data['f0_grp']=pd.cut(data.f0.values,cuts)\n",
      "data['f1_grp']=pd.cut(data.f1.values,cuts)\n",
      "d0=data.groupby('f0_grp').mean()\n",
      "d1=data.groupby('f1_grp').mean()\n",
      "\n",
      "#Now plot it\n",
      "k=len(d0['Y'])\n",
      "k_rng=np.arange(k)\n",
      "p=data['Y'].mean()\n",
      "ax1=plt.subplot(211)\n",
      "plt.title('How Y varies with f0 and f1')\n",
      "ax1.bar(np.arange(len(d0['Y'])),d0['Y'])\n",
      "ax1.plot(k_rng,p*np.ones(k),'r-')\n",
      "ax2=plt.subplot(212)\n",
      "ax2.bar(k_rng,d1['Y'])\n",
      "ax2.set_xticklabels(d1.index.values, rotation=0)\n",
      "ax2.plot(k_rng,p*np.ones(k),'r-')\n",
      "plt.show()"
     ],
     "language": "python",
     "metadata": {},
     "outputs": [],
     "prompt_number": 140
    },
    {
     "cell_type": "code",
     "collapsed": false,
     "input": [
      "#Instead of visualizing, let's do a logistic regression to test\n",
      "logreg = linear_model.LogisticRegression(C=1e30)\n",
      "logreg.fit(data[['f0','f1']],data['Y'])"
     ],
     "language": "python",
     "metadata": {},
     "outputs": [
      {
       "metadata": {},
       "output_type": "pyout",
       "prompt_number": 158,
       "text": [
        "LogisticRegression(C=1e+30, class_weight=None, dual=False, fit_intercept=True,\n",
        "          intercept_scaling=1, penalty='l2', random_state=None, tol=0.0001)"
       ]
      }
     ],
     "prompt_number": 158
    },
    {
     "cell_type": "code",
     "collapsed": false,
     "input": [
      "#Let's plot this fit against the original scatter plot\n",
      "\n",
      "def plot_dec_line(mn,mx,b0,b1,a,col):\n",
      "    '''\n",
      "    We'll write this little function because we might want to use this again\n",
      "    '''\n",
      "    x=np.random.uniform(mn,mx,100)\n",
      "    dec_line=map(lambda x_i: -1*(x_i*b0/b1+a/b1),x)\n",
      "    plt.plot(x,dec_line,col)\n",
      "\n",
      "plt.figure()\n",
      "plot_dec_line(0,1,logreg.coef_[0][0],logreg.coef_[0][1],logreg.intercept_[0],'black')\n",
      "plot_dec_line(0,1,beta[0],beta[1],alpha,'green') #This one if uncommented also plots the 'truth'\n",
      "plt.scatter(data['f0'][(data['Y']==0)].values,data['f1'][(data['Y']==0)].values,color='r')\n",
      "plt.scatter(data['f0'][(data['Y']==1)].values,data['f1'][(data['Y']==1)].values,color='b')\n",
      "plt.show()"
     ],
     "language": "python",
     "metadata": {},
     "outputs": [],
     "prompt_number": 164
    },
    {
     "cell_type": "code",
     "collapsed": false,
     "input": [
      "'''\n",
      "Sometimes the fitted vs. truth lines don't match exactly. In extreme cases they are no where near each other.\n",
      "Let's see how the number of records affects this phenomenon.\n",
      "'''\n",
      "def get_a_fit(alpha,beta,n):\n",
      "    '''\n",
      "    Generate a dataset and return a fitted model to it\n",
      "    '''\n",
      "    dat_n=gen_logistic_dataframe(n,alpha,beta)\n",
      "    lr = linear_model.LogisticRegression(C=1e30)\n",
      "    return lr.fit(dat_n[['f0','f1']],dat_n['Y'])\n",
      "\n",
      "#Now get a few models\n",
      "m1=get_a_fit(alpha,beta,10)\n",
      "m2=get_a_fit(alpha,beta,100)\n",
      "m3=get_a_fit(alpha,beta,1000)\n",
      "m4=get_a_fit(alpha,beta,10000)\n",
      "m5=get_a_fit(alpha,beta,100000)\n",
      "m6=get_a_fit(alpha,beta,1000000)\n",
      "\n"
     ],
     "language": "python",
     "metadata": {},
     "outputs": [],
     "prompt_number": 186
    },
    {
     "cell_type": "code",
     "collapsed": false,
     "input": [
      "plt.figure()\n",
      "plt.subplot(231)\n",
      "plt.title(\"n=10\")\n",
      "plot_dec_line(0,1,m1.coef_[0][0],m1.coef_[0][1],m1.intercept_[0],'black')\n",
      "plot_dec_line(0,1,beta[0],beta[1],alpha,'g')\n",
      "\n",
      "plt.subplot(232)\n",
      "plt.title(\"n=100\")\n",
      "plot_dec_line(0,1,m2.coef_[0][0],m2.coef_[0][1],m2.intercept_[0],'black')\n",
      "plot_dec_line(0,1,beta[0],beta[1],alpha,'g')\n",
      "\n",
      "plt.subplot(233)\n",
      "plt.title(\"n=1000\")\n",
      "plot_dec_line(0,1,m3.coef_[0][0],m3.coef_[0][1],m3.intercept_[0],'black')\n",
      "plot_dec_line(0,1,beta[0],beta[1],alpha,'g')\n",
      "\n",
      "plt.subplot(234)\n",
      "plt.title(\"n=10000\")\n",
      "plot_dec_line(0,1,m4.coef_[0][0],m4.coef_[0][1],m4.intercept_[0],'black')\n",
      "plot_dec_line(0,1,beta[0],beta[1],alpha,'g')\n",
      "\n",
      "plt.subplot(235)\n",
      "plt.title(\"n=100000\")\n",
      "plot_dec_line(0,1,m5.coef_[0][0],m5.coef_[0][1],m5.intercept_[0],'black')\n",
      "plot_dec_line(0,1,beta[0],beta[1],alpha,'g')\n",
      "\n",
      "plt.subplot(236)\n",
      "plt.title(\"n=1000000\")\n",
      "plot_dec_line(0,1,m6.coef_[0][0],m6.coef_[0][1],m6.intercept_[0],'black')\n",
      "plot_dec_line(0,1,beta[0],beta[1],alpha,'g')\n",
      "\n",
      "plt.show()"
     ],
     "language": "python",
     "metadata": {},
     "outputs": [],
     "prompt_number": 187
    },
    {
     "cell_type": "code",
     "collapsed": false,
     "input": [
      "m1.coef_,m2.coef_"
     ],
     "language": "python",
     "metadata": {},
     "outputs": [
      {
       "metadata": {},
       "output_type": "pyout",
       "prompt_number": 172,
       "text": [
        "(array([[-0.97520312,  4.50399478]]), array([[-0.16506483,  4.40035865]]))"
       ]
      }
     ],
     "prompt_number": 172
    },
    {
     "cell_type": "code",
     "collapsed": false,
     "input": [],
     "language": "python",
     "metadata": {},
     "outputs": []
    }
   ],
   "metadata": {}
  }
 ]
}