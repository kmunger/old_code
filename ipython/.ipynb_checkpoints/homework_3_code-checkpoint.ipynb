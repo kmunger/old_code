{
 "metadata": {
  "name": ""
 },
 "nbformat": 3,
 "nbformat_minor": 0,
 "worksheets": [
  {
   "cells": [
    {
     "cell_type": "markdown",
     "metadata": {},
     "source": [
      "<p><b>Show that Mutual Information and Information Gain are the same.</b><br><br>\n",
      "\n",
      "We'll start with Mutual Informatation, defined below, and show that it is the same as IG.<br><br>\n",
      "$MI=\\sum\\limits_{y\\in Y} \\sum\\limits_{x\\in X} \\: p(x,y) * log\\frac{p(x,y)}{p(x)p(y)}$\n",
      "<br><br>\n",
      "Using Bayes Rule, we know that $p(x,y) = p(y|x)\\:p(x)$. We can substitute this in to get:<br><br>\n",
      "\n",
      "$MI=\\sum\\limits_{y\\in Y} \\sum\\limits_{x\\in X} \\: p(y|x)p(x) * log\\frac{p(y|x)}{p(y)}$<br><br>\n",
      "We then use the fact that $log(a/b)=log(a)-log(b)$ to get:<br><br>\n",
      "\n",
      "$MI=\\sum\\limits_{y\\in Y} \\sum\\limits_{x\\in X} \\: p(y|x)p(x) * log(p(y|x)) \\:-\\:\n",
      "\\sum\\limits_{y\\in Y} \\sum\\limits_{x\\in X} \\: p(y|x)p(x) *log(p(y))$<br><br>\n",
      "If we rearrange the summation in the first term above, we get:<br><br>\n",
      "\n",
      "$\\sum\\limits_{y\\in Y} \\sum\\limits_{x\\in X} \\: p(y|x)p(x) * log(p(y|x))=\\sum\\limits_{x\\in X} p(x) \\sum\\limits_{y\\in Y} p(y|x)*log(p(y|x))$<br><br>\n",
      "This last term is equivalent to the negative conditional entropy $-H(Y|X)$.<br><br>\n",
      "Similarly, we can use the Law of Total Probability to show that:<br><br>\n",
      "$\\sum\\limits_{y\\in Y} \\sum\\limits_{x\\in X} \\: p(y|x)p(x) *log(p(y)) = \\sum\\limits_{y\\in Y}\\:log(p(y)) \\sum\\limits_{x\\in X} \\: p(y|x)p(x)=\\sum\\limits_{y\\in Y}p(y)*log(p(y))$<br><br>\n",
      "This last term above is equivalent to the negative Entropy of Y, $-H(Y)$.<br><br>\n",
      "We have thus shown that:<br><br>\n",
      "$MI=-H(Y|X)- (-H(Y)) = IG$\n",
      "\n",
      "</p>\n"
     ]
    },
    {
     "cell_type": "code",
     "collapsed": false,
     "input": [
      "import pandas as pd\n",
      "import numpy as np\n",
      "import scipy as sp\n",
      "import matplotlib.pyplot as plt\n",
      "import course_utils as bd\n",
      "reload(bd)\n",
      "from sklearn.tree import DecisionTreeClassifier\n",
      "\n",
      "f = '/Users/briand/Desktop/ds course/hw/Cell2Cell_data.csv'\n",
      "\n",
      "dat=pd.read_csv(f, header=0, sep=',')\n",
      "\n",
      "train, test = bd.trainTest(dat, 0.8)\n",
      "\n",
      "lab = 'churndep'"
     ],
     "language": "python",
     "metadata": {},
     "outputs": [],
     "prompt_number": 1
    },
    {
     "cell_type": "code",
     "collapsed": false,
     "input": [
      "'''\n",
      "Build a default classifier\n",
      "'''\n",
      "clf_def = DecisionTreeClassifier(criterion='entropy')\n",
      "clf_def = clf_def.fit(train.drop(lab,1), train[lab])\n",
      "\n",
      "feats = train.drop(lab,1).columns.values\n",
      "\n",
      "#Show feature importance\n",
      "fig, ax = plt.subplots()\n",
      "width=0.35\n",
      "#ax.bar(train.drop(lab,1).columns.values, clf.feature_importances_, width, color='r')\n",
      "ax.bar(np.arange(len(clf_def.feature_importances_)), clf_def.feature_importances_, width, color='r')\n",
      "ax.set_xticks(np.arange(len(clf_def.feature_importances_)))\n",
      "ax.set_xticklabels(feats, rotation=45)\n",
      "plt.title('Feature Importance from DT')\n",
      "ax.set_ylabel('Normalized Gini Importance')\n",
      "\n",
      "\n",
      "#train[['churndep','eqpdays','revenue','outcalls']]"
     ],
     "language": "python",
     "metadata": {},
     "outputs": [
      {
       "metadata": {},
       "output_type": "pyout",
       "prompt_number": 2,
       "text": [
        "<matplotlib.text.Text at 0x109accc50>"
       ]
      },
      {
       "metadata": {},
       "output_type": "display_data",
       "png": "[encoded data removed]",
       "text": [
        "<matplotlib.figure.Figure at 0x108985f90>"
       ]
      }
     ],
     "prompt_number": 2
    },
    {
     "cell_type": "code",
     "collapsed": false,
     "input": [
      "train[['churndep','eqpdays','revenue','outcalls']].corr()"
     ],
     "language": "python",
     "metadata": {},
     "outputs": [
      {
       "output_type": "stream",
       "stream": "stderr",
       "text": [
        "/Users/briand/anaconda/lib/python2.7/site-packages/pandas/core/config.py:570: DeprecationWarning: height has been deprecated.\n",
        "\n",
        "  warnings.warn(d.msg, DeprecationWarning)\n",
        "/Users/briand/anaconda/lib/python2.7/site-packages/pandas/core/config.py:570: DeprecationWarning: height has been deprecated.\n",
        "\n",
        "  warnings.warn(d.msg, DeprecationWarning)\n"
       ]
      },
      {
       "html": [
        "<div style=\"max-height:1000px;max-width:1500px;overflow:auto;\">\n",
        "<table border=\"1\" class=\"dataframe\">\n",
        "  <thead>\n",
        "    <tr style=\"text-align: right;\">\n",
        "      <th></th>\n",
        "      <th>churndep</th>\n",
        "      <th>eqpdays</th>\n",
        "      <th>revenue</th>\n",
        "      <th>outcalls</th>\n",
        "    </tr>\n",
        "  </thead>\n",
        "  <tbody>\n",
        "    <tr>\n",
        "      <th>churndep</th>\n",
        "      <td> 1.000000</td>\n",
        "      <td> 0.114211</td>\n",
        "      <td>-0.013919</td>\n",
        "      <td>-0.038294</td>\n",
        "    </tr>\n",
        "    <tr>\n",
        "      <th>eqpdays</th>\n",
        "      <td> 0.114211</td>\n",
        "      <td> 1.000000</td>\n",
        "      <td>-0.221312</td>\n",
        "      <td>-0.245099</td>\n",
        "    </tr>\n",
        "    <tr>\n",
        "      <th>revenue</th>\n",
        "      <td>-0.013919</td>\n",
        "      <td>-0.221312</td>\n",
        "      <td> 1.000000</td>\n",
        "      <td> 0.499059</td>\n",
        "    </tr>\n",
        "    <tr>\n",
        "      <th>outcalls</th>\n",
        "      <td>-0.038294</td>\n",
        "      <td>-0.245099</td>\n",
        "      <td> 0.499059</td>\n",
        "      <td> 1.000000</td>\n",
        "    </tr>\n",
        "  </tbody>\n",
        "</table>\n",
        "</div>"
       ],
       "metadata": {},
       "output_type": "pyout",
       "prompt_number": 3,
       "text": [
        "          churndep   eqpdays   revenue  outcalls\n",
        "churndep  1.000000  0.114211 -0.013919 -0.038294\n",
        "eqpdays   0.114211  1.000000 -0.221312 -0.245099\n",
        "revenue  -0.013919 -0.221312  1.000000  0.499059\n",
        "outcalls -0.038294 -0.245099  0.499059  1.000000"
       ]
      }
     ],
     "prompt_number": 3
    },
    {
     "cell_type": "code",
     "collapsed": false,
     "input": [
      "#Explore eqpdays\n",
      "#hist(train[['eqpdays']])\n",
      "#train['grp']=np.floor(train[['eqpdays']].values/100)*100\n",
      "#b = train[['grp','churndep']].groupby(['grp']).mean()\n",
      "#train.drop('grp',1)"
     ],
     "language": "python",
     "metadata": {},
     "outputs": [
      {
       "output_type": "stream",
       "stream": "stderr",
       "text": [
        "/Users/briand/anaconda/lib/python2.7/site-packages/pandas/core/config.py:570: DeprecationWarning: height has been deprecated.\n",
        "\n",
        "  warnings.warn(d.msg, DeprecationWarning)\n"
       ]
      },
      {
       "html": [
        "<pre>\n",
        "&lt;class 'pandas.core.frame.DataFrame'&gt;\n",
        "Int64Index: 31887 entries, 18006 to 28487\n",
        "Data columns (total 12 columns):\n",
        "revenue     31887  non-null values\n",
        "outcalls    31887  non-null values\n",
        "incalls     31887  non-null values\n",
        "months      31887  non-null values\n",
        "eqpdays     31887  non-null values\n",
        "webcap      31887  non-null values\n",
        "marryyes    31887  non-null values\n",
        "travel      31887  non-null values\n",
        "pcown       31887  non-null values\n",
        "creditcd    31887  non-null values\n",
        "retcalls    31887  non-null values\n",
        "churndep    31887  non-null values\n",
        "dtypes: float64(3), int64(9)\n",
        "</pre>"
       ],
       "metadata": {},
       "output_type": "pyout",
       "prompt_number": 3,
       "text": [
        "<class 'pandas.core.frame.DataFrame'>\n",
        "Int64Index: 31887 entries, 18006 to 28487\n",
        "Data columns (total 12 columns):\n",
        "revenue     31887  non-null values\n",
        "outcalls    31887  non-null values\n",
        "incalls     31887  non-null values\n",
        "months      31887  non-null values\n",
        "eqpdays     31887  non-null values\n",
        "webcap      31887  non-null values\n",
        "marryyes    31887  non-null values\n",
        "travel      31887  non-null values\n",
        "pcown       31887  non-null values\n",
        "creditcd    31887  non-null values\n",
        "retcalls    31887  non-null values\n",
        "churndep    31887  non-null values\n",
        "dtypes: float64(3), int64(9)"
       ]
      }
     ],
     "prompt_number": 3
    },
    {
     "cell_type": "code",
     "collapsed": false,
     "input": [
      "#Basic Accuracy\n",
      "from sklearn.metrics import confusion_matrix,roc_auc_score\n",
      "clf = DecisionTreeClassifier(criterion='entropy')\n",
      "clf = clf.fit(train.drop(lab,1),train[lab])\n",
      "cm = confusion_matrix(clf.predict(test.drop(lab,1)),test[lab])\n",
      "(cm[0][0]+cm[1][1])/float(sum(cm))"
     ],
     "language": "python",
     "metadata": {},
     "outputs": [
      {
       "metadata": {},
       "output_type": "pyout",
       "prompt_number": 3,
       "text": [
        "0.53913697942799799"
       ]
      }
     ],
     "prompt_number": 3
    },
    {
     "cell_type": "code",
     "collapsed": false,
     "input": [
      "from sklearn.metrics import confusion_matrix,roc_auc_score\n",
      "\n",
      "def testTrees(X_train,y_train,X_test,y_test,dep,leaf,auc):\n",
      "    clf = DecisionTreeClassifier(criterion='entropy',min_samples_leaf=leaf,max_depth=dep)\n",
      "    clf = clf.fit(X_train,y_train)\n",
      "    if (auc==0):\n",
      "        cm = confusion_matrix(clf.predict(X_test),y_test)\n",
      "        return (cm[0][0]+cm[1][1])/float(sum(cm))\n",
      "    else:\n",
      "        return roc_auc_score(y_test,clf.predict_proba(X_test)[:,1])\n",
      "    \n",
      "\n",
      "splits = np.logspace(1,12,num=10,base=2)\n",
      "leaves = np.logspace(1,12,num=10,base=2)\n",
      "\n",
      "run=1\n",
      "if (run==1):\n",
      "    #Initialize dictionary of results\n",
      "    res=dict()\n",
      "    for d in splits:\n",
      "        res[d]=list()\n",
      "\n",
      "    #Now train and get results for each option\n",
      "    for d in splits:\n",
      "        for l in leaves:\n",
      "            res[d].append(testTrees(train.drop(lab,1),train[lab],test.drop(lab,1),test[lab],d,l,0))"
     ],
     "language": "python",
     "metadata": {},
     "outputs": [],
     "prompt_number": 4
    },
    {
     "cell_type": "code",
     "collapsed": false,
     "input": [
      "def r():\n",
      "    return np.random.rand()\n",
      "\n",
      "#Now plot            \n",
      "fig = plt.figure()\n",
      "ax=fig.add_subplot(111)\n",
      "for d in splits:\n",
      "    plt.plot(np.log2(leaves),res[d], color=(r(),r(),r()),label='Split={}'.format(d))\n",
      "\n",
      "box = ax.get_position()\n",
      "ax.set_position([box.x0, box.y0, box.width * 0.8, box.height])\n",
      "\n",
      "# Put a legend to the right of the current axis\n",
      "ax.legend(loc='center left', bbox_to_anchor=(1, 0.5))\n",
      "#plt.legend(loc=4, ncol=3, mode=\"expand\")\n",
      "ax.set_xlabel('Min Leaf Size - Log2')\n",
      "ax.set_ylabel('Test Set Accuracy')\n",
      "plt.title('Holdout Accuracy by Hyperparameters')"
     ],
     "language": "python",
     "metadata": {},
     "outputs": [
      {
       "metadata": {},
       "output_type": "pyout",
       "prompt_number": 11,
       "text": [
        "<matplotlib.text.Text at 0x1020d3f50>"
       ]
      },
      {
       "metadata": {},
       "output_type": "display_data",
       "png": "[encoded data removed]",
       "text": [
        "<matplotlib.figure.Figure at 0x1089859d0>"
       ]
      }
     ],
     "prompt_number": 11
    },
    {
     "cell_type": "code",
     "collapsed": false,
     "input": [
      "res"
     ],
     "language": "python",
     "metadata": {},
     "outputs": [
      {
       "metadata": {},
       "output_type": "pyout",
       "prompt_number": 12,
       "text": [
        "{2.0: [0.58003010536879074,\n",
        "  0.58003010536879074,\n",
        "  0.58003010536879074,\n",
        "  0.58003010536879074,\n",
        "  0.58003010536879074,\n",
        "  0.58003010536879074,\n",
        "  0.58003010536879074,\n",
        "  0.58003010536879074,\n",
        "  0.58003010536879074,\n",
        "  0.58003010536879074],\n",
        " 4.666116158304467: [0.59721525338685399,\n",
        "  0.59721525338685399,\n",
        "  0.59721525338685399,\n",
        "  0.59721525338685399,\n",
        "  0.59583542398394385,\n",
        "  0.59545910687405923,\n",
        "  0.59746613146011041,\n",
        "  0.59382839939789267,\n",
        "  0.59382839939789267,\n",
        "  0.58003010536879074],\n",
        " 10.886320001395017: [0.58893627696939288,\n",
        "  0.58906171600602109,\n",
        "  0.5817862518815855,\n",
        "  0.5841695935775213,\n",
        "  0.58203712995484191,\n",
        "  0.58881083793276467,\n",
        "  0.5923231309583542,\n",
        "  0.59746613146011041,\n",
        "  0.59382839939789267,\n",
        "  0.58003010536879074],\n",
        " 25.398416831491197: [0.55080280983442043,\n",
        "  0.54214751630707481,\n",
        "  0.54917210235825387,\n",
        "  0.55770195684897139,\n",
        "  0.57350727546412439,\n",
        "  0.58467134972403412,\n",
        "  0.59182137481184149,\n",
        "  0.59746613146011041,\n",
        "  0.59382839939789267,\n",
        "  0.58003010536879074],\n",
        " 59.255981586386604: [0.5500501756146513,\n",
        "  0.54302558956347213,\n",
        "  0.54942298043151028,\n",
        "  0.55732563973908678,\n",
        "  0.57350727546412439,\n",
        "  0.58467134972403412,\n",
        "  0.59182137481184149,\n",
        "  0.59746613146011041,\n",
        "  0.59382839939789267,\n",
        "  0.58003010536879074],\n",
        " 138.24764657821524: [0.54967385850476669,\n",
        "  0.54239839438033111,\n",
        "  0.5500501756146513,\n",
        "  0.5579528349222278,\n",
        "  0.57338183642749618,\n",
        "  0.58467134972403412,\n",
        "  0.59182137481184149,\n",
        "  0.59746613146011041,\n",
        "  0.59382839939789267,\n",
        "  0.58003010536879074],\n",
        " 322.53978877308765: [0.54754139488208731,\n",
        "  0.54252383341695931,\n",
        "  0.54917210235825387,\n",
        "  0.55732563973908678,\n",
        "  0.57350727546412439,\n",
        "  0.58467134972403412,\n",
        "  0.59182137481184149,\n",
        "  0.59746613146011041,\n",
        "  0.59382839939789267,\n",
        "  0.58003010536879074],\n",
        " 752.50406004510739: [0.54327646763672854,\n",
        "  0.54227295534370301,\n",
        "  0.54942298043151028,\n",
        "  0.5578273958855996,\n",
        "  0.57350727546412439,\n",
        "  0.58467134972403412,\n",
        "  0.59182137481184149,\n",
        "  0.59746613146011041,\n",
        "  0.59382839939789267,\n",
        "  0.58003010536879074],\n",
        " 1755.6356768830942: [0.54766683391871551,\n",
        "  0.54390366281986957,\n",
        "  0.54904666332162566,\n",
        "  0.5578273958855996,\n",
        "  0.5737581535373808,\n",
        "  0.58467134972403412,\n",
        "  0.59182137481184149,\n",
        "  0.59746613146011041,\n",
        "  0.59382839939789267,\n",
        "  0.58003010536879074],\n",
        " 4096.0: [0.54841946813848474,\n",
        "  0.54064224786753634,\n",
        "  0.54967385850476669,\n",
        "  0.55845459106874062,\n",
        "  0.57350727546412439,\n",
        "  0.58467134972403412,\n",
        "  0.59182137481184149,\n",
        "  0.59746613146011041,\n",
        "  0.59382839939789267,\n",
        "  0.58003010536879074]}"
       ]
      }
     ],
     "prompt_number": 12
    },
    {
     "cell_type": "code",
     "collapsed": false,
     "input": [
      "leaves"
     ],
     "language": "python",
     "metadata": {},
     "outputs": [
      {
       "metadata": {},
       "output_type": "pyout",
       "prompt_number": 13,
       "text": [
        "array([  2.00000000e+00,   4.66611616e+00,   1.08863200e+01,\n",
        "         2.53984168e+01,   5.92559816e+01,   1.38247647e+02,\n",
        "         3.22539789e+02,   7.52504060e+02,   1.75563568e+03,\n",
        "         4.09600000e+03])"
       ]
      }
     ],
     "prompt_number": 13
    },
    {
     "cell_type": "code",
     "collapsed": false,
     "input": [
      "leaves[7]"
     ],
     "language": "python",
     "metadata": {},
     "outputs": [
      {
       "metadata": {},
       "output_type": "pyout",
       "prompt_number": 14,
       "text": [
        "752.50406004510739"
       ]
      }
     ],
     "prompt_number": 14
    },
    {
     "cell_type": "code",
     "collapsed": false,
     "input": [],
     "language": "python",
     "metadata": {},
     "outputs": []
    }
   ],
   "metadata": {}
  }
 ]
}