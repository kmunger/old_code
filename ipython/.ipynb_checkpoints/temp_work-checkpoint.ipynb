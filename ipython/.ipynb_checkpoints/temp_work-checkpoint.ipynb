{
 "metadata": {
  "name": ""
 },
 "nbformat": 3,
 "nbformat_minor": 0,
 "worksheets": [
  {
   "cells": [
    {
     "cell_type": "code",
     "collapsed": false,
     "input": [
      "import pandas as pd\n",
      "from sklearn.metrics import roc_curve, auc\n",
      "import numpy as np\n",
      "\n",
      "\n",
      "f1='/Users/briand/Downloads/atmv_data_4895_validate_20141015.bin_scores.txt'\n",
      "f2='/Users/briand/Downloads/atmv_data_11111_4895_validate_20141015.bin_scores.txt'\n",
      "\n",
      "nn = pd.read_csv(f1, names = ['pred','y'], sep = '\\t')\n",
      "at = pd.read_csv(f2, names = ['pred','y'], sep = '\\t')"
     ],
     "language": "python",
     "metadata": {},
     "outputs": [],
     "prompt_number": 19
    },
    {
     "cell_type": "code",
     "collapsed": false,
     "input": [
      "def plotAUC(truth, pred, lab):\n",
      "    fpr, tpr, thresholds = roc_curve(truth, pred)\n",
      "    roc_auc = auc(fpr, tpr)\n",
      "    c = (np.random.rand(), np.random.rand(), np.random.rand())\n",
      "    plt.plot(fpr, tpr, color=c, label= lab+' (AUC = %0.2f)' % roc_auc)\n",
      "    plt.plot([0, 1], [0, 1], 'k--')\n",
      "    plt.xlim([0.0, 1.0])\n",
      "    plt.ylim([0.0, 1.0])\n",
      "    plt.xlabel('FPR')\n",
      "    plt.ylabel('TPR')\n",
      "    plt.title('ROC')\n",
      "    plt.legend(loc=\"lower right\")"
     ],
     "language": "python",
     "metadata": {},
     "outputs": [],
     "prompt_number": 20
    },
    {
     "cell_type": "code",
     "collapsed": false,
     "input": [
      "plt.clf()\n",
      "plotAUC(nn['y'], nn['pred'], 'w/ NN')\n",
      "plotAUC(at['y'], at['pred'], 'w/o NN')"
     ],
     "language": "python",
     "metadata": {},
     "outputs": [],
     "prompt_number": 18
    },
    {
     "cell_type": "code",
     "collapsed": false,
     "input": [
      "nn_25 = nn.describe().ix['75%']['pred']\n",
      "at_25 = at.describe().ix['75%']['pred']\n",
      "nn_10 = nn.quantile(q=0.9)['pred']\n",
      "at_10 = at.quantile(q=0.9)['pred']"
     ],
     "language": "python",
     "metadata": {},
     "outputs": [],
     "prompt_number": 48
    },
    {
     "cell_type": "code",
     "collapsed": false,
     "input": [
      "nn['y'][(nn['pred']>nn_10)].sum()/nn['y'].sum()"
     ],
     "language": "python",
     "metadata": {},
     "outputs": [
      {
       "metadata": {},
       "output_type": "pyout",
       "prompt_number": 49,
       "text": [
        "0.42105263157894735"
       ]
      }
     ],
     "prompt_number": 49
    },
    {
     "cell_type": "code",
     "collapsed": false,
     "input": [
      "at['y'][(at['pred']>at_10)].sum()/nn['y'].sum()"
     ],
     "language": "python",
     "metadata": {},
     "outputs": [
      {
       "metadata": {},
       "output_type": "pyout",
       "prompt_number": 50,
       "text": [
        "0.28947368421052633"
       ]
      }
     ],
     "prompt_number": 50
    },
    {
     "cell_type": "code",
     "collapsed": false,
     "input": [
      "nn.quantile(q=0.75)['pred']"
     ],
     "language": "python",
     "metadata": {},
     "outputs": [
      {
       "metadata": {},
       "output_type": "pyout",
       "prompt_number": 39,
       "text": [
        "0.44046675000000002"
       ]
      }
     ],
     "prompt_number": 39
    },
    {
     "cell_type": "code",
     "collapsed": false,
     "input": [
      "42/29.0"
     ],
     "language": "python",
     "metadata": {},
     "outputs": [
      {
       "metadata": {},
       "output_type": "pyout",
       "prompt_number": 52,
       "text": [
        "1.4482758620689655"
       ]
      }
     ],
     "prompt_number": 52
    },
    {
     "cell_type": "markdown",
     "metadata": {},
     "source": [
      "<p>\n",
      "\n",
      "$\\mu = \\frac{Conversions}{N}$<br><br>\n",
      "\n",
      "$\\sigma_{SE} = \\sqrt(\\frac{\\mu * (1-\\mu)}{N})$<br><br>\n",
      "\n",
      "$\\textit{95% Conf Interval} => \\mu \\pm  1.96*\\sigma_{SE}$<br><br>\n",
      "\n",
      "$\\textit{Null Hypothesis}: |CR_{test} - CR_{control}| = 0$<br><br>\n",
      "\n",
      "\n",
      "$SE_{diff} = \\sqrt(\\frac{CR_{test} * (1-CR_{test})}{N_{test}}+\\frac{CR_{control} * (1-CR_{control})}{N_{control}})$<br><br>\n",
      "\n",
      "$t_{diff} = \\frac{(CR_{test} - CR_{control}) - 0}{SE_{diff}}$<br><br>\n",
      "\n",
      "\n",
      "$\\mathbb{LL}(f(X),Y)=-\\sum\\limits_{i=1}^n y_i\\,ln\\,(p_i)+(1-y_i)\\,ln\\,(1-p_i)$<br><br>\n",
      "\n",
      "\n",
      "$\\beta^{opt}= \\underset{\\beta \\in \\mathbb{R}^m} {\\mathrm{argmin}}\\:-\\sum\\limits_{i=1}^n y_i\\,ln\\,(p_i)+(1-y_i)\\,ln\\,(1-p_i)$<br><br>\n",
      "\n",
      "$\\beta_j^{t+1} = \\beta_j^{t} - \\eta * \\nabla_{LL_j}$<br><br>\n",
      "$\\nabla_{LL_j}=\\sum\\limits_{i=1}^n \\, (Y_i-P_i)X_{ij}$<br><br>\n",
      "\n",
      "$\\beta^{t+1} = \\beta^{t} - H^{-1} * \\nabla_{LL}$<br><br>\n",
      "\n",
      "$H_{jk}=\\frac{\\partial LL}{\\partial \\beta_j \\partial \\beta_k}=-\\sum\\limits_{i=1}^n \\, P_i(1-P_i)X_{ij}X_{ik}$<br><br>\n",
      "\n",
      "$\\nabla_{LL_j} \\approx (Y_i-P_i)X_{ij}$\n",
      "\n",
      "\n",
      "</p>"
     ]
    },
    {
     "cell_type": "code",
     "collapsed": false,
     "input": [],
     "language": "python",
     "metadata": {},
     "outputs": []
    }
   ],
   "metadata": {}
  }
 ]
}