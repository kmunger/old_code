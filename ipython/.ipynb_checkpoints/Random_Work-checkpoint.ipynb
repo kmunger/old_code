{
 "metadata": {
  "name": ""
 },
 "nbformat": 3,
 "nbformat_minor": 0,
 "worksheets": [
  {
   "cells": [
    {
     "cell_type": "code",
     "collapsed": false,
     "input": [
      "import math\n",
      "import pandas as pd\n",
      "import matplotlib.pyplot as plt\n",
      "from sklearn import linear_model, datasets\n"
     ],
     "language": "python",
     "metadata": {},
     "outputs": [],
     "prompt_number": 1
    },
    {
     "cell_type": "code",
     "collapsed": false,
     "input": [
      "'''\n",
      "Generate the data. Let's pretend like its a credit scoring situation. Alpha is low because defaults are usually rare. \n",
      "Let's pretend that we have to features, FICO score and Income. We'll assume that as these features increase in value,\n",
      "the likelihood of default goes down. We'll thus give betas a negative value.\n",
      "'''\n",
      "n=100000\n",
      "alpha=-3\n",
      "beta=np.array([-3,-1])\n",
      "data=gen_logistic_dataframe(n,alpha,beta)"
     ],
     "language": "python",
     "metadata": {},
     "outputs": [],
     "prompt_number": 2
    },
    {
     "cell_type": "code",
     "collapsed": false,
     "input": [
      "'''\n",
      "Let's build some models. \n",
      "1. We'll first build a model on the full dataset. The full dataset is meant to simulate the entire population\n",
      "2. We'll then simulate a credit scoring process:\n",
      "   a. Generate another dataset, but only 'accept' those users whose score > x\n",
      "   b. Build a model on the 'accepted' users\n",
      "'''\n",
      "#This is the so called credit scoring model\n",
      "credit_model = linear_model.LogisticRegression(C=1e30)\n",
      "credit_model.fit(data[['x0','x1']],data['Y'])\n",
      "\n",
      "#Now let's generate another dataset...but this time we're only going to take users that 'pass' the model\n",
      "#Because its a simulation, we can just take the top half of users.\n"
     ],
     "language": "python",
     "metadata": {},
     "outputs": [
      {
       "metadata": {},
       "output_type": "pyout",
       "prompt_number": 3,
       "text": [
        "LogisticRegression(C=1e+30, class_weight=None, dual=False, fit_intercept=True,\n",
        "          intercept_scaling=1, penalty='l2', random_state=None, tol=0.0001)"
       ]
      }
     ],
     "prompt_number": 3
    },
    {
     "cell_type": "code",
     "collapsed": false,
     "input": [],
     "language": "python",
     "metadata": {},
     "outputs": [
      {
       "metadata": {},
       "output_type": "pyout",
       "prompt_number": 5,
       "text": [
        "(array([[-2.93367387, -0.94058057]]), array([-3.10395888]))"
       ]
      }
     ],
     "prompt_number": 5
    },
    {
     "cell_type": "code",
     "collapsed": false,
     "input": [
      "'''\n",
      "Generate MV random normal variables\n",
      "'''\n",
      "\n",
      "mean=[1,1]\n",
      "corr=[0,0.25,0.5,0.99]\n",
      "\n",
      "x_0,y_0 = np.random.multivariate_normal(mean,[[1,corr[0]],[corr[0],1]],2000).T\n",
      "x_1,y_1 = np.random.multivariate_normal(mean,[[1,corr[1]],[corr[1],1]],2000).T\n",
      "x_2,y_2 = np.random.multivariate_normal(mean,[[1,corr[2]],[corr[2],1]],2000).T\n",
      "x_3,y_3 = np.random.multivariate_normal(mean,[[1,corr[3]],[corr[3],1]],2000).T\n",
      "\n",
      "fig, ((ax1, ax2), (ax3, ax4)) = plt.subplots(nrows=2, ncols=2)\n",
      "plt.subplot('221')\n",
      "plt.plot(x_0,y_0,'k.')\n",
      "plt.tick_params(axis='x',which='both',bottom='off',top='off',labelbottom='off')\n",
      "plt.title('corr=0')\n",
      "\n",
      "plt.subplot('222')\n",
      "plt.plot(x_1,y_1,'k.');\n",
      "plt.tick_params(axis='x',which='both',bottom='off',top='off',labelbottom='off')\n",
      "plt.title('corr=0.25')\n",
      "\n",
      "plt.subplot('223')\n",
      "plt.plot(x_2,y_2,'k.');\n",
      "plt.tick_params(axis='x',which='both',bottom='off',top='off',labelbottom='off')\n",
      "plt.title('corr=0.5')\n",
      "\n",
      "plt.subplot('224')\n",
      "plt.plot(x_3,y_3,'k.');\n",
      "plt.tick_params(axis='x',which='both',bottom='off',top='off',labelbottom='off')\n",
      "plt.title('corr=0.99')"
     ],
     "language": "python",
     "metadata": {},
     "outputs": [
      {
       "metadata": {},
       "output_type": "pyout",
       "prompt_number": 43,
       "text": [
        "<matplotlib.text.Text at 0x106b48550>"
       ]
      },
      {
       "metadata": {},
       "output_type": "display_data",
       "png": "[encoded data removed]",
       "text": [
        "<matplotlib.figure.Figure at 0x1066e2210>"
       ]
      }
     ],
     "prompt_number": 43
    },
    {
     "cell_type": "code",
     "collapsed": false,
     "input": [
      "'''\n",
      "Module 7, height vs. weight\n",
      "\n",
      "'''\n",
      "mean=[69,170]\n",
      "c=30\n",
      "height,weight = np.random.multivariate_normal(mean,[[60,c],[c,10]],5000).T\n",
      "df=pd.DataFrame({'height':height,'weight':weight})\n",
      "\n",
      "#fig = plt.figure()\n",
      "#ax = fig.add_subplot(111)\n",
      "\n",
      "'''\n",
      "plt.plot(height,weight,'k.')\n",
      "z = np.polyfit(height,weight,1)\n",
      "plt.plot(height,z[0]*height+z[1],'r-')\n",
      "ax.set_xlabel('height')\n",
      "ax.set_ylabel('weight' )\n",
      "plt.title('height vs weight + fit: y=%s+%s*x' % (math.floor(z[1]),math.floor(z[0]*100)/100))\n",
      "\n",
      "'''\n",
      "#plt.subplot(122)\n",
      "'''\n",
      "plt.hist(df['weight'].values, bins=150, alpha=0.5, label='All Heights',normed=1)\n",
      "plt.hist(df['weight'][(71<df['height']) & (73>df['height'])].values, bins=100, alpha=0.5, label='6 ft +/- 1 in',normed=1)\n",
      "ax.set_xlabel('height')\n",
      "ax.set_ylabel('distribution of weight')\n",
      "plt.legend()\n",
      "plt.show()\n",
      "'''\n",
      "\n",
      "w=df['weight'].values\n",
      "values, base = np.histogram(w, bins=100,density=False)\n",
      "cumulative = np.cumsum(values)/float(len(w))\n",
      "w2=df['weight'][(71<df['height']) & (73>df['height'])].values\n",
      "v2, b2 = np.histogram(w2, bins=100,density=False)\n",
      "c2 = np.cumsum(v2)/float(len(w2))\n",
      "\n",
      "\n",
      "\n",
      "fig = plt.figure()\n",
      "ax = fig.add_subplot(111)\n",
      "\n",
      "base=b2\n",
      "cumulative=c2\n",
      "plt.plot(base[:-1], cumulative, c='black')\n",
      "plt.plot(base[:-1], 0.09*np.ones(len(base[:-1])),'r--')\n",
      "plt.plot(base[:-1], 0.9*np.ones(len(base[:-1])),'r--')\n",
      "ax1.set_xlabel('weight')\n",
      "ax1.set_ylabel('cumulative distribution')\n",
      "plt.title('Cumulative Weight Distribution on 6ft')\n",
      "plt.xlim([166,176])\n",
      "plt.show()"
     ],
     "language": "python",
     "metadata": {},
     "outputs": [
      {
       "metadata": {},
       "output_type": "display_data",
       "png": "[encoded data removed]",
       "text": [
        "<matplotlib.figure.Figure at 0x1093dec10>"
       ]
      }
     ],
     "prompt_number": 109
    },
    {
     "cell_type": "code",
     "collapsed": false,
     "input": [
      "'''\n",
      "Module 7 - correlations vs. mutual information\n",
      "'''\n",
      "import math\n",
      "import pandas as pd\n",
      "import matplotlib.pyplot as plt\n",
      "from sklearn import linear_model, datasets\n",
      "from scipy.stats.stats import pearsonr\n",
      "\n",
      "import sklearn.metrics as skm\n",
      "\n",
      "def calc_MI(x, y, bins):\n",
      "    c_xy = np.histogram2d(x, y, bins)[0]\n",
      "    mi = skm.mutual_info_score(None, None, contingency=c_xy)\n",
      "    return mi\n",
      "\n",
      "\n",
      "mean=[0,0]\n",
      "cov=np.arange(100)/100.0\n",
      "corr=list()\n",
      "mi=list()\n",
      "\n",
      "bins=100\n",
      "for i in range(len(cov)):\n",
      "    for j in [-1,1]:\n",
      "        x,y = np.random.multivariate_normal(mean,[[1,cov[i]],[cov[i],1]],100000).T\n",
      "        corr.append(pearsonr(j*x,y)[0])\n",
      "        mi.append(calc_MI(j*x,y,bins))\n",
      "    \n"
     ],
     "language": "python",
     "metadata": {},
     "outputs": [],
     "prompt_number": 14
    },
    {
     "cell_type": "code",
     "collapsed": false,
     "input": [
      "fig = plt.figure()\n",
      "ax = fig.add_subplot(111)\n",
      "mi=np.array(mi)\n",
      "mi_s=(mi-mi.min())/(mi.max()-mi.min())\n",
      "plt.plot(np.array(corr),mi_s,'r.')\n",
      "ax.set_xlabel('Correlation(X1,X2)')\n",
      "ax.set_ylabel('Mutual Information (X1,X2)')\n",
      "plt.title('Normalized Mutual Information vs. Correlation')\n"
     ],
     "language": "python",
     "metadata": {},
     "outputs": [
      {
       "metadata": {},
       "output_type": "pyout",
       "prompt_number": 17,
       "text": [
        "<matplotlib.text.Text at 0x102048710>"
       ]
      },
      {
       "metadata": {},
       "output_type": "display_data",
       "png": "[encoded data removed]",
       "text": [
        "<matplotlib.figure.Figure at 0x10aae34d0>"
       ]
      }
     ],
     "prompt_number": 17
    },
    {
     "cell_type": "code",
     "collapsed": false,
     "input": [
      "'''\n",
      "SVD demo - Lecture 3\n",
      "'''\n",
      "mean=[0,0]\n",
      "corr=[0,0.25,0.5,0.99]\n",
      "\n",
      "import scipy.linalg as lin\n",
      "import math\n",
      "import pandas as pd\n",
      "import matplotlib.pyplot as plt\n",
      "from sklearn import linear_model, datasets\n",
      "\n",
      "u0,s0,v0 = lin.svd(np.random.multivariate_normal(mean,[[1,corr[0]],[corr[0],1]],2000).T)\n",
      "u1,s1,v1 = lin.svd(np.random.multivariate_normal(mean,[[1,corr[1]],[corr[1],1]],2000).T)\n",
      "u2,s2,v2 = lin.svd(np.random.multivariate_normal(mean,[[1,corr[2]],[corr[2],1]],2000).T)\n",
      "u3,s3,v3 = lin.svd(np.random.multivariate_normal(mean,[[1,corr[3]],[corr[3],1]],2000).T)\n",
      "\n",
      "\n"
     ],
     "language": "python",
     "metadata": {},
     "outputs": [],
     "prompt_number": 24
    },
    {
     "cell_type": "code",
     "collapsed": false,
     "input": [
      "'''\n",
      "Lecture 2 data prep\n",
      "'''\n",
      "import pandas as pd\n",
      "\n",
      "#cat ads_dataset_clean.txt | cut -f 1,2,6,8,9,11,12,14,15,17,18,20,21,22 > ads_dataset_cut.txt\n",
      "f='/Users/briand/Desktop/ds course/datasets/ads_dataset_cut.txt'\n",
      "f2='/Users/briand/Desktop/ds course/datasets/ads_dataset.txt'\n",
      "with open(f,'r') as rfile:\n",
      "    with open(f2,'w') as wfile:\n",
      "        for i,line in enumerate(rfile.readlines()[:]):\n",
      "            if (i==0):\n",
      "                wfile.write(line)\n",
      "            else:\n",
      "                flds=line.strip('\\n').split('\\t')\n",
      "                #make 2nd field Nan if it is 0\n",
      "                if (flds[1]=='0'):\n",
      "                    flds[1]='NaN'\n",
      "                flds[7]=flds[8]\n",
      "                newline=''\n",
      "                for f in flds:\n",
      "                    newline=newline+'\\t'+f\n",
      "                wfile.write(newline+'\\n')\n",
      "                \n",
      "dat=pd.read_csv(f2,sep='\\t',header=0)\n"
     ],
     "language": "python",
     "metadata": {},
     "outputs": [],
     "prompt_number": 90
    },
    {
     "cell_type": "code",
     "collapsed": false,
     "input": [
      "'''\n",
      "k-NN lecture\n",
      "'''\n",
      "\n",
      "import math\n",
      "import pandas as pd\n",
      "import matplotlib.pyplot as plt\n",
      "from sklearn import linear_model, datasets\n",
      "\n",
      "#Generate 4 different neighborhoods in 2 metric space\n",
      "n=100\n",
      "\n",
      "\n",
      "m=[[0.25,0.75],[0.75,0.75],[0.75,0.25],[0.25,0.25]]\n",
      "s=.03\n",
      "h1= np.random.multivariate_normal([m[0][0],m[0][1]],[[s,0],[0,s]],n).T\n",
      "h2= np.random.multivariate_normal([m[1][0],m[1][1]],[[s,0],[0,s]],n).T\n",
      "h3= np.random.multivariate_normal([m[2][0],m[2][1]],[[s,0],[0,s]],n).T\n",
      "h4= np.random.multivariate_normal([m[3][0],m[3][1]],[[s,0],[0,s]],n).T\n",
      "plot(h1[0],h1[1],'b.')\n",
      "plot(h2[0],h2[1],'r.')\n",
      "plot(h3[0],h3[1],'g.')\n",
      "plot(h4[0],h4[1],'y.')"
     ],
     "language": "python",
     "metadata": {},
     "outputs": [
      {
       "metadata": {},
       "output_type": "pyout",
       "prompt_number": 1,
       "text": [
        "[<matplotlib.lines.Line2D at 0x109492390>]"
       ]
      }
     ],
     "prompt_number": 1
    },
    {
     "cell_type": "code",
     "collapsed": false,
     "input": [
      "def cosSim(v1,v2):\n",
      "    num=v1.dot(v2)\n",
      "    den=math.sqrt((v1.dot(v1)*v2.dot(v2)))\n",
      "    return num/den\n",
      "\n",
      "n=20\n",
      "v1=np.random.rand(n)\n",
      "v2=np.random.rand(n)\n",
      "\n",
      "cosSim(v1,v2),cosSim(v1,2*v2)"
     ],
     "language": "python",
     "metadata": {},
     "outputs": [
      {
       "metadata": {},
       "output_type": "pyout",
       "prompt_number": 18,
       "text": [
        "(0.77245372602698992, 0.77245372602698992)"
       ]
      }
     ],
     "prompt_number": 18
    },
    {
     "cell_type": "code",
     "collapsed": false,
     "input": [
      "'''\n",
      "hyperplane max margin\n",
      "'''\n",
      "\n",
      "import course_utils as bd\n",
      "import pandas as pd\n",
      "reload(bd)\n",
      "\n",
      "#generate data\n",
      "m = [[0.25,0.25],[0.75,0.75]]; s = 0.025; n=20\n",
      "X1=pd.DataFrame(np.random.multivariate_normal([m[0][0],m[0][1]],[[s,0],[0,s]],n), columns=['x1','x2'])\n",
      "X2=pd.DataFrame(np.random.multivariate_normal([m[1][0],m[1][1]],[[s,0],[0,s]],n), columns=['x1','x2'])\n",
      "\n",
      "fig=plt.figure()\n",
      "ax=fig.add_subplot(111)\n",
      "\n",
      "plot(X1['x1'],X1['x2'],'r.')\n",
      "plot(X2['x1'],X2['x2'],'b+')\n",
      "\n",
      "ws=[1, 1]; t=1\n",
      "bd.plot_dec_line(X1['x1'].min(), X2['x1'].max(), ws[0], ws[1],-1*t,'k-','t')\n",
      "ax.axes.get_xaxis().set_visible(False)\n",
      "ax.axes.get_yaxis().set_visible(False)\n",
      "plt.show()"
     ],
     "language": "python",
     "metadata": {},
     "outputs": [],
     "prompt_number": 20
    },
    {
     "cell_type": "code",
     "collapsed": false,
     "input": [
      "'''\n",
      "SVM soft margin\n",
      "'''\n",
      "\n",
      "from sklearn import svm\n",
      "import course_utils as bd\n",
      "import pandas as pd\n",
      "reload(bd)\n",
      "\n",
      "m = [[0.25,0.25],[0.75,0.75]]; s = 0.3; n=20\n",
      "X1=pd.DataFrame(np.random.multivariate_normal([m[0][0],m[0][1]],[[s,0],[0,s]],n), columns=['x1','x2'])\n",
      "X2=pd.DataFrame(np.random.multivariate_normal([m[1][0],m[1][1]],[[s,0],[0,s]],n), columns=['x1','x2'])\n",
      "X1['Y'] = -1 * np.ones(X1.shape[0]); X2['Y'] = 1 * np.ones(X2.shape[0])\n",
      "dat = X1.append(X2, ignore_index=True)\n",
      "X=dat[['x1','x2']]; Y=dat['Y']\n",
      "\n",
      "my_svm = svm.SVC(kernel='linear')\n",
      "my_svm.fit(dat[['x1','x2']], dat['Y'])\n",
      "\n",
      "w = my_svm.coef_[0]\n",
      "a = -w[0] / w[1]\n",
      "xx = np.linspace(X.iloc[:,0].min(), X.iloc[:,1].max())\n",
      "yy = a * xx - (my_svm.intercept_[0]) / w[1]\n",
      "\n",
      "plt.plot(xx, yy, 'k-')\n",
      "plt.plot(X[(Y==-1)].iloc[:,0], X[(Y==-1)].iloc[:,1],'r.')\n",
      "plt.plot(X[(Y==1)].iloc[:,0], X[(Y==1)].iloc[:,1],'b+')"
     ],
     "language": "python",
     "metadata": {},
     "outputs": [
      {
       "metadata": {},
       "output_type": "pyout",
       "prompt_number": 1,
       "text": [
        "[<matplotlib.lines.Line2D at 0x10caab410>]"
       ]
      }
     ],
     "prompt_number": 1
    },
    {
     "cell_type": "code",
     "collapsed": false,
     "input": [
      "'''MI vs IG'''\n",
      "\n",
      "cross=np.array([[10, 30], [30,30]])\n",
      "\n",
      "x_tot = cross.sum(axis = 1)\n",
      "y_tot = cross.sum(axis = 0)\n",
      "xy_tot = cross.sum()\n",
      "\n",
      "def ent(s):\n",
      "    tot = s.sum()\n",
      "    e = 0.0\n",
      "    for v in s:\n",
      "        e += (v/float(tot))*(np.log(v)-np.log(tot))\n",
      "    return -1*e\n",
      "\n",
      "h_y = ent(cross.sum(axis=0))\n",
      "h_y_0 = ent(cross[0,:])\n",
      "h_y_1 = ent(cross[1,:])\n",
      "\n",
      "IG = h_y - (x_tot[0]*h_y_0 + x_tot[1]*h_y_1)/xy_tot\n",
      "\n",
      "def mi(c):\n",
      "    tot = c.sum()\n",
      "    mi = 0\n",
      "    for i in range(2):\n",
      "        for j in range(2):\n",
      "            p_y = cross.sum(axis = 0)[i]/float(tot)\n",
      "            p_x = cross.sum(axis = 1)[j]/float(tot)\n",
      "            p_xy = c[i,j]/float(tot)\n",
      "            mi += p_xy*(np.log(p_xy)-np.log(p_x)-np.log(p_y))\n",
      "    return mi\n",
      "\n",
      "m = mi(cross)\n"
     ],
     "language": "python",
     "metadata": {},
     "outputs": [],
     "prompt_number": 26
    },
    {
     "cell_type": "code",
     "collapsed": false,
     "input": [
      "h_y, h_y_0, h_y_1, IG, m"
     ],
     "language": "python",
     "metadata": {},
     "outputs": [
      {
       "metadata": {},
       "output_type": "pyout",
       "prompt_number": 28,
       "text": [
        "(0.67301166700925708,\n",
        " 0.56233514461880818,\n",
        " 0.69314718055994495,\n",
        " 0.032189300825766876,\n",
        " 0.032189300825765814)"
       ]
      }
     ],
     "prompt_number": 28
    },
    {
     "cell_type": "code",
     "collapsed": false,
     "input": [
      "cross"
     ],
     "language": "python",
     "metadata": {},
     "outputs": [
      {
       "metadata": {},
       "output_type": "pyout",
       "prompt_number": 23,
       "text": [
        "array([[10, 30],\n",
        "       [30, 30]])"
       ]
      }
     ],
     "prompt_number": 23
    },
    {
     "cell_type": "markdown",
     "metadata": {},
     "source": [
      "<p>\n",
      "$R_{train} = \\frac{1}{n} \\sum\\limits_{i=1}^n \\mathbb{L}(f(x_i^{train}),y_i^{train})$<br><br>\n",
      "$R_{test} = \\frac{1}{n} \\sum\\limits_{i=1}^n \\mathbb{L}(f(x_i^{test}),y_i^{test})$<br><br>\n",
      "\n",
      "<b>1. For each configuration $c$ in the set $C$=[Algorithm x Feature Set x Hyper-parameter]:</b>\n",
      "\n",
      "<ul>\n",
      "<li>Find the function   $\\hat{f_c}$   such that: $\\hat{f_c}= \\underset{f \\in \\mathbb{F}} {\\mathrm{argmin}}\\: R^{train}$</li>\n",
      "<li>With $\\hat{f_c}$ estimated, get the validation loss: $R_c^{val} = \\frac{1}{n} \\sum\\limits_{i=1}^n \\mathbb{L}(\\hat{f_c}(x_i^{val}),y_i^{val})$</li>\n",
      "</ul>\n",
      "<b>2. Choose the optimal configuration $c_{opt}$ such that: $c_{opt} = \\underset{c \\in C}{\\mathrm{argmin(max)}}\\: R_c^{val}$</b><br>\n",
      "<b>3. Define: NewTrain = Train + Validation data</b><br><br>\n",
      "<b>4. Find the function   $\\hat{f}$   such that: $\\hat{f}= \\underset{f \\in \\mathbb{F}} {\\mathrm{argmin}}\\: R^{NewTrain}$</b><br>\n",
      "<b>5. Estimate the test loss as:  $R^{test} = \\frac{1}{n} \\sum\\limits_{i=1}^n \\mathbb{L}(\\hat{f}(x_i^{test}),y_i^{test})$\n",
      "</p>"
     ]
    },
    {
     "cell_type": "markdown",
     "metadata": {},
     "source": [
      "<p>\n",
      "<b>1. For each configuration $c$ in the set $C$=[Algorithm x Feature Set x Hyper-parameter]:</b>\n",
      "<ul>\n",
      "        <li>For each fold $k$:\n",
      "\n",
      "    <ul>\n",
      "        <li>Find the function   $\\hat{f_c^k}$   such that: $\\hat{f_c^k}= \\underset{f \\in \\mathbb{F}} {\\mathrm{argmin}}\\: R^{train-k}$</li>\n",
      "        <li>With $\\hat{f_c^k}$ estimated, get the validation loss: $R_c^{val-k} = \\frac{1}{n} \\sum\\limits_{i=1}^n \\mathbb{L}(\\hat{f_c}(x_i^{val-k}),y_i^{val-k})$</li>\n",
      "    </ul>\n",
      "    <li>Get the average loss across all folds: $R_c^{val} = \\sum\\limits_{i=1}^k \\:R_c^{val-k}$\n",
      "\n",
      "</ul>\n",
      "\n",
      "<b>2. Choose the optimal configuration $c_{opt}$ such that: $c_{opt} = \\underset{c \\in C}{\\mathrm{argmin(max)}}\\: R_c^{val}$</b><br>\n",
      "\n",
      "\n",
      "<b>3. Find the function   $\\hat{f}$   such that: $\\hat{f}= \\underset{f \\in \\mathbb{F}} {\\mathrm{argmin}}\\: R^{train}$ using $c_{opt}$</b><br>\n",
      "\n",
      "<b>4. Estimate the test loss as:  $R^{test} = \\frac{1}{n} \\sum\\limits_{i=1}^n \\mathbb{L}(\\hat{f}(x_i^{test}),y_i^{test})$\n",
      "</p>"
     ]
    },
    {
     "cell_type": "markdown",
     "metadata": {},
     "source": [
      "<p>For hw 3:<br><br>\n",
      "\n",
      "\n",
      "$Mutual \\: \\: Information = \\sum\\limits_{y\\in Y} \\sum\\limits_{x\\in X} \\: p(x,y) * log\\frac{p(x,y)}{p(x)p(y)} $\n",
      "\n",
      "<br><br>\n",
      "$Entropy = H(Y) = - \\sum\\limits_{y\\in Y} \\: p(y) * log(p(y))$<br><br>\n",
      "$Conditional Entropy = H(Y|X) =  \\sum\\limits_{x\\in X} \\: p(x) * H(Y|X=x)$<br><br>\n",
      "\n",
      "<br><br><br><br>\n",
      "\n",
      "Given a function $f(X)$ that returns a real valued input:<br><br>\n",
      "\n",
      "$\\hat{Y} = I(f(x)>\\delta)$\n",
      "<br><br><br><br>\n",
      "Let $s^+(x)$ and $s^-(x)$ be the PDF of $f(x)$ for positive and negative labels, respectively.\n",
      "Let $S^+(x)$ and $S^-(x)$ be the CDF of $f(x)$ for positive and negative labels, respectively.<br><br>\n",
      "<center>$AUC = P(f(x^+)>f(x^-)) = \\int_{-\\infty}^{\\infty} s^+(x)\\:S^-(x)\\:dx=\\int_{-\\infty}^{\\infty} s^-(x)\\:(1-S^+(x))\\:dx$</center>\n",
      "<br><br><br><br>\n",
      "<center>$MAE = \\frac{1}{n} \\sum\\limits_{i=1}^n|E[y|x_i]-y_i|$</center><br><br>\n",
      "<center>$MSE = \\frac{1}{n} \\sum\\limits_{i=1}^n(E[y|x_i]-y_i)^2$</center><br><br>\n",
      "<center>$LL = \\frac{1}{n} \\sum\\limits_{i=1}^n\\: y_i\\:ln(P(y|x_i))+(1-y_i) \\:ln(1-P(y|x_i))$</center>\n",
      "</p>"
     ]
    },
    {
     "cell_type": "code",
     "collapsed": false,
     "input": [
      "import numpy as np\n",
      "\n",
      "xs = np.linspace(-5, 5, 100)\n",
      "\n",
      "def normDist(x, m, s):\n",
      "    mid = ((x - m)**2)/(2*s*s)\n",
      "    return ((s*math.sqrt(2*math.pi))**-1)*(math.exp(-1*mid))\n",
      "\n",
      "mu = [[0, 0],[-0.75, 0.75],[-1.5, 1.5],[-2.2, 2.2]]\n",
      "sig= 1\n",
      "\n",
      "y_pos0 = np.array([normDist(x, mu[0][1], sig) for x in xs])\n",
      "y_neg0 = np.array([normDist(x, mu[0][0], sig) for x in xs])\n",
      "\n",
      "y_pos1 = np.array([normDist(x, mu[1][1], sig) for x in xs])\n",
      "y_neg1 = np.array([normDist(x, mu[1][0], sig) for x in xs])\n",
      "\n",
      "y_pos2 = np.array([normDist(x, mu[2][1], sig) for x in xs])\n",
      "y_neg2 = np.array([normDist(x, mu[2][0], sig) for x in xs])\n",
      "\n",
      "y_pos3 = np.array([normDist(x, mu[3][1], sig) for x in xs])\n",
      "y_neg3 = np.array([normDist(x, mu[3][0], sig) for x in xs])\n",
      "\n",
      "\n",
      "\n",
      "auc = [0.5, 0.6, 0.8, 0.98]\n",
      "\n",
      "fig = plt.figure()\n",
      "ax = fig.add_subplot(221)\n",
      "plt.title('Random, AUC={}'.format(auc[0]))\n",
      "plt.plot(xs, y_neg0, 'r-')\n",
      "plt.plot(xs, y_pos0, 'k-')\n",
      "ax.axes.get_xaxis().set_visible(False)\n",
      "ax.axes.get_yaxis().set_visible(False)\n",
      "\n",
      "ax = fig.add_subplot(222)\n",
      "plt.title('Mediocre, AUC={}'.format(auc[1]))\n",
      "plt.plot(xs, y_neg1, 'r-')\n",
      "plt.plot(xs, y_pos1, 'k-')\n",
      "ax.axes.get_xaxis().set_visible(False)\n",
      "ax.axes.get_yaxis().set_visible(False)\n",
      "\n",
      "ax = fig.add_subplot(223)\n",
      "plt.title('Good, AUC={}'.format(auc[2]))\n",
      "plt.plot(xs, y_neg2, 'r-')\n",
      "plt.plot(xs, y_pos2, 'k-')\n",
      "ax.axes.get_xaxis().set_visible(False)\n",
      "ax.axes.get_yaxis().set_visible(False)\n",
      "\n",
      "ax = fig.add_subplot(224)\n",
      "plt.title('Great, AUC={}'.format(auc[3]))\n",
      "plt.plot(xs, y_neg3, 'r-')\n",
      "plt.plot(xs, y_pos3, 'k-')\n",
      "ax.axes.get_xaxis().set_visible(False)\n",
      "ax.axes.get_yaxis().set_visible(False)    \n",
      "\n",
      "plt.legend()"
     ],
     "language": "python",
     "metadata": {},
     "outputs": [],
     "prompt_number": 17
    },
    {
     "cell_type": "code",
     "collapsed": false,
     "input": [
      "'''\n",
      "Prep Boson Data - strip out 32nd column\n",
      "'''\n",
      "\n",
      "f='/Users/briand/Desktop/ds course/datasets/boson2.csv'\n",
      "f2='/Users/briand/Desktop/ds course/datasets/boson_testing.csv'\n",
      "with open(f,'r') as rfile:\n",
      "    with open(f2,'w') as wfile:\n",
      "        for i,line in enumerate(rfile.readlines()[:]):\n",
      "            if (1==1):  \n",
      "                flds=line.strip('\\n').split(',')\n",
      "                newline=''\n",
      "                for j, v in enumerate(flds):\n",
      "                    if (j != 31):\n",
      "                        newline=newline+','+v\n",
      "                wfile.write(newline+'\\n')"
     ],
     "language": "python",
     "metadata": {},
     "outputs": [],
     "prompt_number": 9
    },
    {
     "cell_type": "markdown",
     "metadata": {},
     "source": [
      "<p>Lecture on Collaborative Filtering<br><br>\n",
      "\n",
      "Each user $i$ corresponds to a row in our user-item matrix $A$. There are two popular<br>ways to define similarity between similar rows of $A$.<br><br>\n",
      "Let $A_i$ and $A_k$ be two row vectors corresponding to the items $i$ and $k$ have rated.<br> Let $S$ be the set of items both users have rated/selected. Then,<br><br>\n",
      "<b><u>Pearson Correlation</u></b><br><br>\n",
      "\n",
      "\n",
      "\n",
      "$sim(A_i,A_k) = \\frac{\\sum\\limits_{j \\in S} (A_{ij}-\\mu_i)(A_{kj}-\\mu_k)}{\\sqrt{\\sum\\limits_{j \\in S} (A_{ij}-\\mu_i)^2 \\sum\\limits_{j \\in S} (A_{kj}-\\mu_k)^2}}$\n",
      "\n",
      "<br><br>\n",
      "<b><u>Cosine Similarity</u></b><br><br>\n",
      "$sim(A_i,A_k)=cos(A_i,A_k) = \\frac{A_i\\cdot A_k}{\\|A_i\\|_2\\|A_k\\|_2}$\n",
      "\n",
      "<br><br>\n",
      "$r_{u,i} \\;=\\;Agg_{u' \\in U}\\:(r_{u',i})$\n",
      "<br><br>\n",
      "$r_{u,i} \\;=\\;\\frac{1}{N}\\sum_{u' \\in U}\\:r_{u',i}$\n",
      "<br><br>\n",
      "$r_{u,i} \\;=\\;\\frac{1}{k}\\sum_{u' \\in U}\\:sim(u,u')*r_{u',i},\\:\\:\\:k=\\sum_{u' \\in U}\\:sim(u,u') $\n",
      "\n",
      "\n",
      "</p>"
     ]
    },
    {
     "cell_type": "markdown",
     "metadata": {},
     "source": [
      "<p>\n",
      "\n",
      "$\n",
      "\n",
      "</p>"
     ]
    },
    {
     "cell_type": "code",
     "collapsed": false,
     "input": [
      "#Test whether stderr of mean a set is the same of stderr or subgroup means\n",
      "\n",
      "ns = [10**i for i in range(2,8)]\n",
      "\n",
      "n_err = []; n_mean = [];\n",
      "k_err = []; k_mean = [];\n",
      "k = 10\n",
      "\n",
      "for n in ns:\n",
      "    x = np.random.normal(0, 1, n)\n",
      "    n_mean.append(x.mean())\n",
      "    n_err.append(np.sqrt(x.var()/n))\n",
      "    b = n/k\n",
      "    mu = []\n",
      "    for i in range(k):    \n",
      "        mu.append(x[i*b:(i+1)*b].mean())\n",
      "    k_mean.append(np.array(mu).mean())\n",
      "    k_err.append(np.sqrt(np.array(mu).var()/k))\n",
      "\n",
      "    \n",
      "    "
     ],
     "language": "python",
     "metadata": {},
     "outputs": [],
     "prompt_number": 5
    },
    {
     "cell_type": "code",
     "collapsed": false,
     "input": [
      "n_err, k_err\n"
     ],
     "language": "python",
     "metadata": {},
     "outputs": [
      {
       "metadata": {},
       "output_type": "pyout",
       "prompt_number": 6,
       "text": [
        "([0.079211641766635116,\n",
        "  0.032613769873758455,\n",
        "  0.010054882648328043,\n",
        "  0.0031577159736527016,\n",
        "  0.0010003619328531966,\n",
        "  0.00031615032558716624],\n",
        " [0.073506778372902412,\n",
        "  0.022887405958677932,\n",
        "  0.010699868674343044,\n",
        "  0.0025056921862671409,\n",
        "  0.00056055648852847172,\n",
        "  0.00033305334652465699])"
       ]
      }
     ],
     "prompt_number": 6
    },
    {
     "cell_type": "markdown",
     "metadata": {},
     "source": [
      "<p>Matrix Factorizations<br><br>\n",
      "\n",
      "\n",
      "\n",
      "$\\hat{U},\\hat{V}= \\underset{U,V} {\\mathrm{argmin}}\\sum\\limits_{r_{ij}\\in A} (r_{ij}-\\sum\\limits_t^k u_{it}*v_{jt})^2\\:\\:+\\lambda\\;(\\|U\\|^2+\\|V\\|^2)$\n",
      "\n",
      "</p>"
     ]
    },
    {
     "cell_type": "markdown",
     "metadata": {},
     "source": [
      "###Bagging\n",
      "\n",
      "<p>\n",
      "We have data $D=[(X_1, Y_1),(X_2, Y_2),...,(X_N, Y_N)]$ and we want to learn:$\\:\\: E[Y|X]=\\hat{f}(X)$\n",
      "<br><br>\n",
      "Define a bootstrap sample $D^b$ as $N$ samples from $D$, sampled with replacement.\n",
      "<br><br>\n",
      "Let $E^b[Y|X]=\\hat{f}^b(X)$ be the function learned from training set $D^b$.\n",
      "<br><br>\n",
      "Our bagged prediction is then the mean of all estimates of $f^b(X)$. I.e.,\n",
      "<br><br>\n",
      "$\\hat{f}_{bag}(X) = \\sum\\limits_{b=1}^B \\:\\hat{f}^b(X)$\n",
      "</p>\n",
      "\n",
      "###Stacking\n",
      "<p>\n",
      "\n",
      "$f(X_i) = \\sum\\limits_{s=1}^S \\: w^s*f^s(X_i)$  \n",
      "\n",
      "\n",
      "</p>"
     ]
    },
    {
     "cell_type": "markdown",
     "metadata": {},
     "source": [
      "###sparse text\n",
      "<p>\n",
      "\n",
      "\n",
      "$TF-IDF=Term\\_Freq \\:\\:x\\:\\: Inverse\\_Document\\_Freq$<br><br>\n",
      "\n",
      "$TF(term,\\: Doc) = \\sum\\limits_{word \\in Doc} \\mathbb{I}(word==term)$ <br><br>\n",
      "\n",
      "$IDF(term,\\: Corpus)= log\\frac{|Corpus|}{\\sum\\limits_{Doc \\in Corp}\\mathbb{I}(term \\in Doc)}$\n",
      "\n",
      "\n",
      "\n",
      "</p>"
     ]
    },
    {
     "cell_type": "code",
     "collapsed": false,
     "input": [
      "from sklearn.feature_extraction.text import CountVectorizer\n",
      "\n",
      "corpus = ['the cow jumped over the moon',\n",
      "     'somewhere over the rainbow',\n",
      "     'over the moon']\n",
      "\n",
      "vectorizer = CountVectorizer(min_df=1, analyzer='char', ngram_range=(2,2))\n",
      "X = vectorizer.fit_transform(corpus)"
     ],
     "language": "python",
     "metadata": {},
     "outputs": [],
     "prompt_number": 14
    },
    {
     "cell_type": "code",
     "collapsed": false,
     "input": [
      "X.todense()"
     ],
     "language": "python",
     "metadata": {},
     "outputs": [
      {
       "metadata": {},
       "output_type": "pyout",
       "prompt_number": 15,
       "text": [
        "matrix([[1, 1, 1, 1, 0, 1, 0, 0, 1, 1, 2, 1, 1, 0, 2, 0, 1, 0, 1, 1, 0, 0,\n",
        "         1, 1, 1, 1, 1, 1, 0, 0, 0, 2, 1, 1, 1, 0],\n",
        "        [0, 0, 0, 1, 1, 1, 1, 1, 0, 0, 2, 0, 2, 1, 2, 1, 0, 1, 0, 0, 1, 1,\n",
        "         0, 0, 1, 1, 0, 1, 1, 1, 1, 1, 0, 1, 0, 1],\n",
        "        [0, 0, 1, 0, 0, 1, 0, 0, 0, 0, 1, 0, 1, 0, 1, 0, 0, 0, 1, 0, 0, 0,\n",
        "         1, 1, 1, 0, 0, 1, 0, 0, 0, 1, 0, 1, 0, 0]])"
       ]
      }
     ],
     "prompt_number": 15
    },
    {
     "cell_type": "code",
     "collapsed": false,
     "input": [],
     "language": "python",
     "metadata": {},
     "outputs": []
    },
    {
     "cell_type": "markdown",
     "metadata": {},
     "source": [
      "###Naive Bayes\n",
      "<p>\n",
      "\n",
      "$P(y|x_1,x_2,\\dots,x_m)$<br><br>\n",
      "\n",
      "$\\frac{P(y)P(x_1,x_2,\\dots,x_m|y)}{P(x_1,x_2,\\dots,x_m)}$<br><br>\n",
      "$posterior=\\frac{prior\\:x\\:likelihood}{evidence}$<br><br>\n",
      "\n",
      "$P(x_i|y, x_j) = P(x_i|y)$<br><br>\n",
      "\n",
      "$P(x_1,x_2,\\dots,x_m|y)=P(x_1|y)P(x_2|y)\\dots P(x_m|y)=\\prod\\limits_{i=1}^m P(x_i|y)$<br><br>\n",
      "\n",
      "$P(x_1,x_2,\\dots,x_m)$<br><br>\n",
      "\n",
      "$P(y|x_1,x_2,\\dots,x_m) \\propto P(y)\\prod\\limits_{i=1}^m P(x_i|y)$<br><br>\n",
      "\n",
      "$\\hat{y}=\\underset{y \\in Y} {\\mathrm{argmax}}\\:P(y)\\prod\\limits_{i=1}^m P(x_i|y)$<br><br>\n",
      "\n",
      "$\\hat{y}=\\mathbb{I}(\\frac{P(y=1|x_1,x_2,\\dots,x_m)}{P(y=0|x_1,x_2,\\dots,x_m)}>1)$<br><br>\n",
      "$f(x)=ln\\frac{P(y=1)}{P(y=0)}+\\sum\\limits_{i=1}^m\\:ln\\frac{P(x_i|y=1)}{P(x_i|y=0)}=\\alpha+\\beta\\cdot x$<br><br>\n",
      "\n",
      "$\\hat{y}=\\mathbb{I}(f(x)>0)$\n",
      "<br><br>\n",
      "$P(x_i|y)=\\frac{1}{\\sqrt{2 \\pi \\sigma_{iy}^2}}exp(\\frac{-(x_i-\\mu_{iy})^2}{\\sigma_{iy}^2})$<br><br>\n",
      "$\\mu_{iy}=E[X_i|y]$<br><br>\n",
      "$\\sigma_{iy}^2=E[(X_i-\\mu_{iy})^2|y]$<br><br>\n",
      "\n",
      "\n",
      "$P(y|doc) \\propto P(y)P(doc|y)\\propto p(y)\\prod\\limits_{x_i \\in doc} P(x_i|y)^{freq_i}$<br><br> \n",
      "$P(x_i|y)=\\frac{N_{yi}+\\alpha}{N_y+\\alpha n}$<br><br>\n",
      "$\\hat{y}=\\underset{y \\in Y} {\\mathrm{argmax}}\\:log[P(y)P(doc|y)]\n",
      "=\\underset{y \\in Y} {\\mathrm{argmax}}\\:[log(P(y))+\\sum\\limits_{x_i \\in doc}w_i\\,log(\\frac{N_{yi}+\\alpha}{N_y+\\alpha n})]$\n",
      "<br><br>\n",
      "$P(y|doc) \\propto P(y)P(doc|y)= p(y)\\prod\\limits_{i} P(x_i|y)^{w_i\\,}(1-P(x_i|y))^{1-w_i}$<br><br> \n",
      "\n",
      "$\\hat{y}=\\underset{y \\in Y} {\\mathrm{argmax}}\\:[log(P(y))+\\sum\\limits_{i }\\,w_i \\,log(P(x_i))+(1-w_i)\\,log(1-P(x_i))]$\n",
      "\n",
      "<br><br>\n",
      "$P(x_i|y)=P(i|y)x_i+(1-P(i|y))(1-x_i)$\n",
      "<br><br>\n",
      "</p>\n",
      "\n",
      "###Bernoulli Priors\n",
      "<p>\n",
      "$\\theta_{ahab}=ln \\frac{P(ahab|Y=1)}{P(ahab|Y=0)}$<br><br>\n",
      "\n",
      "$p(ahab|Y=y)=\\frac{cnt(ahab) \\:|\\: y}{cnt(all words)\\:|\\:y}$<br><br>\n",
      "\n",
      "$\\hat{\\theta}_{MAP}(X)=P_s(X)=\\frac{s\\:+\\:\\mu}{n\\:+\\:M\\mu^{-1}}$<br><br>\n",
      "$\\hat{\\theta}_{MAP}(X)=\\underset{\\theta} {\\mathrm{argmax}}\\:P(X|\\theta)P(\\theta)\n",
      "\n",
      "$<br><br>\n",
      "\n",
      "$f(x;\\alpha,\\beta)=\\frac{\\Gamma(\\alpha+\\beta)}{\\Gamma(\\alpha)\\,\\Gamma(\\beta)}\\;x^{\\alpha-1}\\:(1-x)^{\\beta-1}$<br><br>\n",
      "$E[X]=\\frac{\\alpha}{\\alpha+\\beta}$<br><br>\n",
      "$\\mu=E[X]=\\frac{\\alpha}{\\alpha+\\beta}$<br><br>\n",
      "$M=\\alpha+\\beta$<br><br>\n",
      "$\\hat{\\theta}_{MAP}=\\delta\\;\\mu+(1-\\delta)\\;\\hat{\\theta}$<br><br>\n",
      "\n",
      "$\\mu=\\frac{\\alpha}{\\alpha+\\beta}$<br><br>\n",
      "$\\hat{\\theta}=\\frac{s}{n}$<br><br>\n",
      "$\\delta=\\frac{\\alpha+\\beta}{\\alpha+\\beta+n}$<br><br>\n",
      "$f(x;\\alpha)=\\frac{\\Gamma(\\alpha)}{\\prod\\limits_{i}\\Gamma(\\alpha_i)}\\;\\prod\\limits_{i}x^{\\alpha_i-1}$<br><br>\n",
      "$P(x_i)=\\frac{N_i}{N}$<br><br>\n",
      "\n",
      "$P(x_i)=\\frac{N_i\\;+\\;\\alpha_i}{N\\;+\\;\\alpha}$<br><br>\n",
      "\n",
      "$\\sum\\limits_i\\:P(x_i)=1$\n",
      "\n",
      "</p>"
     ]
    },
    {
     "cell_type": "code",
     "collapsed": false,
     "input": [
      "a"
     ],
     "language": "python",
     "metadata": {},
     "outputs": []
    }
   ],
   "metadata": {}
  }
 ]
}