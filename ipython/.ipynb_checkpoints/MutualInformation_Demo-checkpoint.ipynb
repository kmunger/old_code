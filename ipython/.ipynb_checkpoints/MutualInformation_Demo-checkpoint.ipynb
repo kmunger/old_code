{
 "metadata": {
  "name": ""
 },
 "nbformat": 3,
 "nbformat_minor": 0,
 "worksheets": [
  {
   "cells": [
    {
     "cell_type": "code",
     "collapsed": false,
     "input": [
      "import math\n",
      "import pandas as pd\n",
      "import matplotlib.pyplot as plt\n",
      "from sklearn import linear_model, datasets\n",
      "from scipy.stats.stats import pearsonr\n",
      "from scipy.stats import entropy\n",
      "\n",
      "import sklearn.metrics as skm\n",
      "\n",
      "n = 10000; mu = 0; sig = 5; scale = 10;\n",
      "\n",
      "x = scale*(np.random.random(n)-0.5)\n",
      "y = x*x+np.random.normal(mu, sig, n)\n",
      "y_rand = scale*(np.random.random(n)-0.5)\n",
      "\n",
      "plot(x, y ,'.')"
     ],
     "language": "python",
     "metadata": {},
     "outputs": [
      {
       "metadata": {},
       "output_type": "pyout",
       "prompt_number": 131,
       "text": [
        "[<matplotlib.lines.Line2D at 0x114003e10>]"
       ]
      },
      {
       "metadata": {},
       "output_type": "display_data",
       "png": "[encoded data removed]",
       "text": [
        "<matplotlib.figure.Figure at 0x10c33fdd0>"
       ]
      }
     ],
     "prompt_number": 131
    },
    {
     "cell_type": "code",
     "collapsed": false,
     "input": [
      "def entropy_bd(vec):\n",
      "    '''\n",
      "    This function calculates entropy...the input is not the raw series but the binned\n",
      "    output of np.histogram(x). This should return the same results as scipy.stats.entropy\n",
      "    '''\n",
      "    tol = 1e-10\n",
      "    ne = np.sum(vec)\n",
      "    ent = 0\n",
      "    for v in vec:\n",
      "        if v !=0:\n",
      "            ent -= (v/ne)*(math.log(v)-math.log(ne))\n",
      "        \n",
      "    return max(ent, 1e-10)\n",
      "\n",
      "def getMutInf_BD(x, y, bins, normalize):\n",
      "    '''\n",
      "    This function calculates Mutual Information. It should return the same results as\n",
      "    sklearn.metrics.mutual_info_scores when normalize = 0. Sklearn does have a function called \n",
      "    normalized_mutual_info_score, and in my tests my normalized version here doesn't match this function.\n",
      "    '''\n",
      "    tol = 1e-10\n",
      "    matrix_xy, x_bins, y_bins = np.histogram2d(x, y, bins)\n",
      "    x_row_sum = matrix_xy.sum(axis=1)\n",
      "    y_col_sum = matrix_xy.sum(axis=0)\n",
      "    n = np.sum(matrix_xy)\n",
      "    mut_inf = 0\n",
      "    for i in range(len(x_row_sum)):\n",
      "        for j in range(len(y_col_sum)):\n",
      "            if (matrix_xy[i, j] != 0):\n",
      "                p_x = max(x_row_sum[i]/n, tol)\n",
      "                p_y = max(y_col_sum[j]/n, tol)\n",
      "                p_xy = max(matrix_xy[i, j]/n, tol)\n",
      "                mut_inf += p_xy*(math.log(p_xy)-(math.log(p_x)+math.log(p_y)))\n",
      "    if normalize ==1:\n",
      "        return max(mut_inf/math.sqrt((entropy_bd(x_row_sum)*entropy_bd(y_col_sum))), 1e-10)\n",
      "    else:\n",
      "        return max(mut_inf, 1e-10)\n",
      "\n"
     ],
     "language": "python",
     "metadata": {},
     "outputs": [
      {
       "metadata": {},
       "output_type": "pyout",
       "prompt_number": 134,
       "text": [
        "0.27067985156864516"
       ]
      }
     ],
     "prompt_number": 134
    },
    {
     "cell_type": "code",
     "collapsed": false,
     "input": [
      "ins = 200\n",
      "getMutInf_BD(x, y, bins, 1)"
     ],
     "language": "python",
     "metadata": {},
     "outputs": []
    },
    {
     "cell_type": "code",
     "collapsed": false,
     "input": [
      "import scipy as sp\n",
      "a, b = sp.check_clusterings(x, y)"
     ],
     "language": "python",
     "metadata": {},
     "outputs": [
      {
       "ename": "AttributeError",
       "evalue": "'module' object has no attribute 'check_clusterings'",
       "output_type": "pyerr",
       "traceback": [
        "\u001b[0;31m---------------------------------------------------------------------------\u001b[0m\n\u001b[0;31mAttributeError\u001b[0m                            Traceback (most recent call last)",
        "\u001b[0;32m<ipython-input-141-e8aa8882ef83>\u001b[0m in \u001b[0;36m<module>\u001b[0;34m()\u001b[0m\n\u001b[1;32m      1\u001b[0m \u001b[0;32mimport\u001b[0m \u001b[0mscipy\u001b[0m \u001b[0;32mas\u001b[0m \u001b[0msp\u001b[0m\u001b[0;34m\u001b[0m\u001b[0m\n\u001b[0;32m----> 2\u001b[0;31m \u001b[0ma\u001b[0m\u001b[0;34m,\u001b[0m \u001b[0mb\u001b[0m \u001b[0;34m=\u001b[0m \u001b[0msp\u001b[0m\u001b[0;34m.\u001b[0m\u001b[0mcheck_clusterings\u001b[0m\u001b[0;34m(\u001b[0m\u001b[0mx\u001b[0m\u001b[0;34m,\u001b[0m \u001b[0my\u001b[0m\u001b[0;34m)\u001b[0m\u001b[0;34m\u001b[0m\u001b[0m\n\u001b[0m",
        "\u001b[0;31mAttributeError\u001b[0m: 'module' object has no attribute 'check_clusterings'"
       ]
      }
     ],
     "prompt_number": 141
    },
    {
     "cell_type": "code",
     "collapsed": false,
     "input": [
      "??skm.normalized_mutual_info_score"
     ],
     "language": "python",
     "metadata": {},
     "outputs": [],
     "prompt_number": 142
    },
    {
     "cell_type": "code",
     "collapsed": false,
     "input": [
      "skm.normalized_mutual_info_score([1,2,0,1],[1,0,1,0])"
     ],
     "language": "python",
     "metadata": {},
     "outputs": [
      {
       "metadata": {},
       "output_type": "pyout",
       "prompt_number": 138,
       "text": [
        "0.40824829046386296"
       ]
      }
     ],
     "prompt_number": 138
    },
    {
     "cell_type": "code",
     "collapsed": false,
     "input": [],
     "language": "python",
     "metadata": {},
     "outputs": []
    }
   ],
   "metadata": {}
  }
 ]
}