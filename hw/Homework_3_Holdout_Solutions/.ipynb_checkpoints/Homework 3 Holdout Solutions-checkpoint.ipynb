{
 "cells": [
  {
   "cell_type": "markdown",
   "metadata": {},
   "source": [
    "# Introduction to Data Science\n",
    "## Homework 3 Solutions"
   ]
  },
  {
   "cell_type": "markdown",
   "metadata": {},
   "source": [
    "Student Name: Solutions\n",
    "\n",
    "Student Netid: Solutions\n",
    "***"
   ]
  },
  {
   "cell_type": "markdown",
   "metadata": {},
   "source": [
    "### Part 1 (5 Points)\n",
    "Assume that $X$ and $Y$ are discrete random variables. The formulas for Mutual Information, Entropy and Conditional Entropy are given by:\n",
    "\n",
    "$$\\text{Mutual Information} = \\sum_{y \\in Y} \\sum_{x \\in X} p(x, y) \\cdot log\\frac{p(x, y)}{p(x)p(y)}$$\n",
    "\n",
    "$$\\text{Entropy} = H(Y) = -\\sum_{y \\in Y} p(y) \\cdot log(p(y))$$\n",
    "\n",
    "$$\\text{Conditional Entropy} = H(Y \\mid X) = \\sum_{x \\in X} p(x) \\cdot H(Y \\mid X = x)$$\n",
    "\n",
    "Show mathematically that $\\text{Mutual Information} = \\text{Information Gain}$, where $\\text{Information Gain} = H(Y) – H(Y \\mid X)$. Give the derivation below (note, this can be done using Latek math notation, which renders nicely. See above. Feel free to do it by hand and submit an image of your proof)."
   ]
  },
  {
   "cell_type": "markdown",
   "metadata": {},
   "source": [
    "<p><b>Show that Mutual Information and Information Gain are the same.</b><br><br>\n",
    "\n",
    "We'll start with Mutual Informatation, defined below, and show that it is the same as IG.<br><br>\n",
    "$MI=\\sum\\limits_{y\\in Y} \\sum\\limits_{x\\in X} \\: p(x,y) * log\\frac{p(x,y)}{p(x)p(y)}$\n",
    "<br><br>\n",
    "Using Bayes Rule, we know that $p(x,y) = p(y|x)\\:p(x)$. We can substitute this in to get:<br><br>\n",
    "\n",
    "$MI=\\sum\\limits_{y\\in Y} \\sum\\limits_{x\\in X} \\: p(y|x)p(x) * log\\frac{p(y|x)}{p(y)}$<br><br>\n",
    "We then use the fact that $log(a/b)=log(a)-log(b)$ to get:<br><br>\n",
    "\n",
    "$MI=\\sum\\limits_{y\\in Y} \\sum\\limits_{x\\in X} \\: p(y|x)p(x) * log(p(y|x)) \\:-\\:\n",
    "\\sum\\limits_{y\\in Y} \\sum\\limits_{x\\in X} \\: p(y|x)p(x) *log(p(y))$<br><br>\n",
    "If we rearrange the summation in the first term above, we get:<br><br>\n",
    "\n",
    "$\\sum\\limits_{y\\in Y} \\sum\\limits_{x\\in X} \\: p(y|x)p(x) * log(p(y|x))=\\sum\\limits_{x\\in X} p(x) \\sum\\limits_{y\\in Y} p(y|x)*log(p(y|x))$<br><br>\n",
    "This last term is equivalent to the negative conditional entropy $-H(Y|X)$.<br><br>\n",
    "Similarly, we can use the Law of Total Probability to show that:<br><br>\n",
    "$\\sum\\limits_{y\\in Y} \\sum\\limits_{x\\in X} \\: p(y|x)p(x) *log(p(y)) = \\sum\\limits_{y\\in Y}\\:log(p(y)) \\sum\\limits_{x\\in X} \\: p(y|x)p(x)=\\sum\\limits_{y\\in Y}p(y)*log(p(y))$<br><br>\n",
    "This last term above is equivalent to the negative Entropy of Y, $-H(Y)$.<br><br>\n",
    "We have thus shown that:<br><br>\n",
    "$MI=-H(Y|X)- (-H(Y)) = IG$\n",
    "\n",
    "</p>\n"
   ]
  },
  {
   "cell_type": "markdown",
   "metadata": {},
   "source": [
    "### Part 2 - Preparing a Training Set and Training a Decision Tree (Total 10 Points)\n",
    "This is a hands-on task where we build a predictive model using Decision Trees discussed in class. For this part, we will be using the data in `cell2cell_data.csv`.\n",
    "\n",
    "These historical data consist of 39,859 customers: 19,901 customers that churned (i.e., left the company) and 19,958 that did not churn (see the `\"churndep\"` variable). Here are the data set's 11 possible predictor variables for churning behavior: \n",
    "\n",
    "```\n",
    "Pos.  Var. Name  Var. Description\n",
    "----- ---------- --------------------------------------------------------------\n",
    "1     revenue    Mean monthly revenue in dollars\n",
    "2     outcalls   Mean number of outbound voice calls\n",
    "3     incalls    Mean number of inbound voice calls\n",
    "4     months     Months in Service\n",
    "5     eqpdays    Number of days the customer has had his/her current equipment\n",
    "6     webcap     Handset is web capable\n",
    "7     marryyes   Married (1=Yes; 0=No)\n",
    "8     travel     Has traveled to non-US country (1=Yes; 0=No)\n",
    "9     pcown      Owns a personal computer (1=Yes; 0=No)\n",
    "10    creditcd   Possesses a credit card (1=Yes; 0=No)\n",
    "11    retcalls   Number of calls previously made to retention team\n",
    "```\n",
    "\n",
    "The 12th column, the dependent variable `\"churndep\"`, equals 1 if the customer churned, and 0 otherwise. "
   ]
  },
  {
   "cell_type": "markdown",
   "metadata": {},
   "source": [
    "1\\. Load the data and prepare it for modeling. Note that the features are already processed for you, so the only thing needed here is split the data into training and testing. Use pandas to create two data frames: train_df and test_df, where train_df has 80% of the data chosen uniformly at random without replacement (test_df should have the other 20%). Also, make sure to write your own code to do the splits. You may use any random() function numpy but DO NOT use the data splitting functions from Sklearn.<br><br>\n",
    "\n",
    "(2 Points)"
   ]
  },
  {
   "cell_type": "code",
   "execution_count": 12,
   "metadata": {
    "collapsed": false
   },
   "outputs": [],
   "source": [
    "import pandas as pd\n",
    "import numpy as np\n",
    "data = pd.read_csv(\"data/Cell2Cell_data.csv\", header=0, sep=',')\n",
    "\n",
    "def trainTest(dat, pct):\n",
    "    '''\n",
    "    Randomly splits data into train and test\n",
    "    '''\n",
    "    dat_shuf = dat.reindex(np.random.permutation(dat.index)) #randomly permutes the dataframe index\n",
    "    trn = dat_shuf[:int(np.floor(dat_shuf.shape[0]*pct))]\n",
    "    tst = dat_shuf[int(np.floor(dat_shuf.shape[0]*pct)):]\n",
    "    return [trn, tst]\n",
    "\n",
    "train_df, test_df = trainTest(data, 0.8)\n"
   ]
  },
  {
   "cell_type": "markdown",
   "metadata": {},
   "source": [
    "2\\. If we had to, how would we prove to ourselves or a colleague that our data was indeed randomly sampled on X? And by prove, I mean empirically, not just showing this person our code. Don't actually do the work, just describe in your own words a test you could here. Hint: think about this in terms of selection bias and use notes from our 2nd lecture.\n",
    "\n",
    "(1 Point)"
   ]
  },
  {
   "cell_type": "markdown",
   "metadata": {},
   "source": [
    "<p>\n",
    "<span style=\"color:red\">\n",
    "This question essentially is asking if there might be sampling or selection bias present in the split datasets. This is something that is possible if there were any human error (due to logical flaws in the code) or small sample sizes. The definition of selection bias is that $P(Train|X) \\ne P(Train)$. So one thing we can do is build a model to predict P(Train|X) by combining both the data from 'train_df' and 'test_df' above. We can assign a label $Y=1$ to data from 'train_df' and build a classifier using $X$. If there is no bias, then our model should have no signal. We can use any variety of statistical tests (such as no features having statistical significance in a logistic regression), or test to see if the AUC=0.5 (implying a random model).\n",
    "</span>\n",
    "</p>"
   ]
  },
  {
   "cell_type": "markdown",
   "metadata": {},
   "source": [
    "3\\. Now build and train a decision tree classifier using `DecisionTreeClassifier()` [(manual page)](http://scikit-learn.org/stable/modules/generated/sklearn.tree.DecisionTreeClassifier.html) on train_df to predict the `\"churndep\"` target variable. Make sure to use `criterion='entropy'` when instantiating an instance of `DecisionTreeClassifier()`. For all other settings you should use all of the default options.\n",
    "\n",
    "(1 Point)"
   ]
  },
  {
   "cell_type": "code",
   "execution_count": 17,
   "metadata": {
    "collapsed": false
   },
   "outputs": [
    {
     "data": {
      "text/plain": [
       "DecisionTreeClassifier(compute_importances=None, criterion='entropy',\n",
       "            max_depth=None, max_features=None, min_density=None,\n",
       "            min_samples_leaf=1, min_samples_split=2, random_state=None,\n",
       "            splitter='best')"
      ]
     },
     "execution_count": 17,
     "metadata": {},
     "output_type": "execute_result"
    }
   ],
   "source": [
    "from sklearn.tree import DecisionTreeClassifier\n",
    "\n",
    "label = 'churndep'\n",
    "\n",
    "tree = DecisionTreeClassifier(criterion=\"entropy\")\n",
    "tree.fit(train_df.drop([label], axis=1), train_df[label])\n"
   ]
  },
  {
   "cell_type": "markdown",
   "metadata": {},
   "source": [
    "4\\. Using the resulting model from 2.3, show a bar plot of feature names and their feature importance (hint: check the attributes of the `DecisionTreeClassifier()` object directly in IPython or check the manual!).\n",
    "\n",
    "(3 Points)"
   ]
  },
  {
   "cell_type": "code",
   "execution_count": 19,
   "metadata": {
    "collapsed": false
   },
   "outputs": [
    {
     "data": {
      "text/plain": [
       "<matplotlib.text.Text at 0x1076ff4d0>"
      ]
     },
     "execution_count": 19,
     "metadata": {},
     "output_type": "execute_result"
    },
    {
     "data": {
      "image/png": "[encoded data removed]",
      "text/plain": [
       "<matplotlib.figure.Figure at 0x106e88510>"
      ]
     },
     "metadata": {},
     "output_type": "display_data"
    }
   ],
   "source": [
    "import matplotlib.pyplot as plt\n",
    "%matplotlib inline\n",
    "\n",
    "#Explicitly pull out the data we need\n",
    "newdf = pd.DataFrame({'imp':tree.feature_importances_, 'feat':train_df.drop(label, 1).columns.values})\n",
    "newdf = newdf.sort(columns = 'imp', axis = 0)\n",
    "\n",
    "\n",
    "fig, ax = plt.subplots()\n",
    "width=0.35\n",
    "ax.bar(np.arange(len(newdf.imp.values)), newdf.imp.values, width, color='r')\n",
    "ax.set_xticks(np.arange(len(newdf.imp.values)))\n",
    "ax.set_xticklabels(newdf.feat.values, rotation=45)\n",
    "plt.title('Feature Importance from DT')\n",
    "ax.set_ylabel('Normalized Gini Importance')"
   ]
  },
  {
   "cell_type": "markdown",
   "metadata": {},
   "source": [
    "5\\. Is the relationship between the top 3 most important features (as measured here) negative or positive? If your marketing director asked you to explain the top 3 drivers of churn, how would you interpret the relationship between these 3 features and the churn outcome?  What \"real-life\" connection can you draw between each variable and churn?\n",
    "\n",
    "(2 Points)"
   ]
  },
  {
   "cell_type": "code",
   "execution_count": 20,
   "metadata": {
    "collapsed": false
   },
   "outputs": [
    {
     "name": "stderr",
     "output_type": "stream",
     "text": [
      "/Users/briand/anaconda/lib/python2.7/site-packages/pandas/core/config.py:570: DeprecationWarning: height has been deprecated.\n",
      "\n",
      "  warnings.warn(d.msg, DeprecationWarning)\n",
      "/Users/briand/anaconda/lib/python2.7/site-packages/pandas/core/config.py:570: DeprecationWarning: height has been deprecated.\n",
      "\n",
      "  warnings.warn(d.msg, DeprecationWarning)\n"
     ]
    },
    {
     "data": {
      "text/html": [
       "<div style=\"max-height:1000px;max-width:1500px;overflow:auto;\">\n",
       "<table border=\"1\" class=\"dataframe\">\n",
       "  <thead>\n",
       "    <tr style=\"text-align: right;\">\n",
       "      <th></th>\n",
       "      <th>churndep</th>\n",
       "      <th>eqpdays</th>\n",
       "      <th>revenue</th>\n",
       "      <th>outcalls</th>\n",
       "    </tr>\n",
       "  </thead>\n",
       "  <tbody>\n",
       "    <tr>\n",
       "      <th>churndep</th>\n",
       "      <td> 1.000000</td>\n",
       "      <td> 0.108765</td>\n",
       "      <td>-0.012604</td>\n",
       "      <td>-0.033267</td>\n",
       "    </tr>\n",
       "    <tr>\n",
       "      <th>eqpdays</th>\n",
       "      <td> 0.108765</td>\n",
       "      <td> 1.000000</td>\n",
       "      <td>-0.219353</td>\n",
       "      <td>-0.245012</td>\n",
       "    </tr>\n",
       "    <tr>\n",
       "      <th>revenue</th>\n",
       "      <td>-0.012604</td>\n",
       "      <td>-0.219353</td>\n",
       "      <td> 1.000000</td>\n",
       "      <td> 0.492470</td>\n",
       "    </tr>\n",
       "    <tr>\n",
       "      <th>outcalls</th>\n",
       "      <td>-0.033267</td>\n",
       "      <td>-0.245012</td>\n",
       "      <td> 0.492470</td>\n",
       "      <td> 1.000000</td>\n",
       "    </tr>\n",
       "  </tbody>\n",
       "</table>\n",
       "</div>"
      ],
      "text/plain": [
       "          churndep   eqpdays   revenue  outcalls\n",
       "churndep  1.000000  0.108765 -0.012604 -0.033267\n",
       "eqpdays   0.108765  1.000000 -0.219353 -0.245012\n",
       "revenue  -0.012604 -0.219353  1.000000  0.492470\n",
       "outcalls -0.033267 -0.245012  0.492470  1.000000"
      ]
     },
     "execution_count": 20,
     "metadata": {},
     "output_type": "execute_result"
    }
   ],
   "source": [
    "#We can check the direction of the relationship by measuring the correlation between the top variables and churndep\n",
    "train_df[['churndep','eqpdays','revenue','outcalls']].corr()"
   ]
  },
  {
   "cell_type": "markdown",
   "metadata": {},
   "source": [
    "<p>\n",
    "<span style=\"color:red\">\n",
    "The correlation table shows that eqpdays is positively correlated with churn while outcalls and revenue are negatively correlated.\n",
    "Revenue and Outcalls are correlated and they generally describe the amount of usage the person has on their phone. We should expect that if the person uses their service a lot then they are both satisfied and getting their money’s worth. Thus, we should expect they are less likely to churn. \n",
    "\n",
    "Eqpdays is less obvious, but we might assume that customers that have had their equipment longer are more likely to want a new phone. When confronted with the choice of a new phone, the customer might also consider shopping around with other providers to get the best deal.\n",
    "\n",
    "</span>\n",
    "</p>"
   ]
  },
  {
   "cell_type": "markdown",
   "metadata": {},
   "source": [
    "6\\. Using the classifier built in 2.3, try predicting `\"churndep\"` on both the train_df and test_df data sets. What is the accuracy on each?\n",
    "\n",
    "(1 Point)"
   ]
  },
  {
   "cell_type": "code",
   "execution_count": 32,
   "metadata": {
    "collapsed": false
   },
   "outputs": [
    {
     "name": "stdout",
     "output_type": "stream",
     "text": [
      "train accuracy = 0.999811835544, test accuracy = 0.530732563974\n"
     ]
    }
   ],
   "source": [
    "# Code here\n",
    "from sklearn import metrics\n",
    "\n",
    "train_p = tree.predict(train_df.drop([label], axis=1))\n",
    "test_p = tree.predict(test_df.drop([label], axis=1))\n",
    "train_accuracy = metrics.accuracy_score(train_p, train_df[label])\n",
    "test_accuracy = metrics.accuracy_score(test_p, test_df[label])\n",
    "\n",
    "print 'train accuracy = {}, test accuracy = {}'.format(train_accuracy, test_accuracy)\n"
   ]
  },
  {
   "cell_type": "markdown",
   "metadata": {},
   "source": [
    "### Part 3 - Finding a Good Decision Tree (Total 10 Points)\n",
    "The default options for your decision tree may not be optimal. We need to analyze whether tuning the parameters can improve the accuracy of the classifier.  For the following options `min_samples_split` and `min_samples_leaf`:"
   ]
  },
  {
   "cell_type": "markdown",
   "metadata": {},
   "source": [
    "1\\. Generate a list of 10 values of each for the parameters min_samples_split and min_samples_leaf. \n",
    "\n",
    "(1 Point)"
   ]
  },
  {
   "cell_type": "code",
   "execution_count": 33,
   "metadata": {
    "collapsed": true
   },
   "outputs": [],
   "source": [
    "# Code here\n",
    "\n",
    "min_samples_split_values = np.logspace(1, 12, num=10, base=2)\n",
    "min_samples_leaf_values = np.logspace(1, 12, num=10, base=2)\n"
   ]
  },
  {
   "cell_type": "markdown",
   "metadata": {},
   "source": [
    "2\\. Explain in words your reasoning for choosing the above ranges.\n",
    "\n",
    "(1 Points)"
   ]
  },
  {
   "cell_type": "markdown",
   "metadata": {},
   "source": [
    "<p>\n",
    "<span style=\"color:red\">\n",
    "We need to explore a wide range of values, although with no prior knowledge of the problem space, it is hard to know exactly what range. We know that the values should be fairly well distributed on a log-scale, as this is the strategy one usually takes when deciding on an appropriate grid for grid search. We can evaluate later whether we have covered a large enough range.\n",
    "</span>\n",
    "</p>"
   ]
  },
  {
   "cell_type": "markdown",
   "metadata": {},
   "source": [
    "3\\. For each combination of values in 3.1 (there should be 100), build a new classifier and check the classifier's accuracy on the test data. Plot the test set accuracy for these options. Use the values of `min_samples_split` as the x-axis and generate a new series (line) for each of `min_samples_leaf`.\n",
    "\n",
    "(5 Points)"
   ]
  },
  {
   "cell_type": "code",
   "execution_count": 35,
   "metadata": {
    "collapsed": false
   },
   "outputs": [],
   "source": [
    "import matplotlib.pyplot as plt\n",
    "%matplotlib inline\n",
    "\n",
    "def testTrees(train, test, label, split, leaf):\n",
    "    '''\n",
    "    Build a function that takes in tree hyperparams, data and returns accuracy on test data\n",
    "    '''\n",
    "    clf = DecisionTreeClassifier(criterion='entropy', \n",
    "                                min_samples_leaf = leaf, min_samples_split = split)\n",
    "    \n",
    "    clf.fit(train.drop(label, 1), train[label])\n",
    "    test_p = clf.predict(test_df.drop(label, 1))\n",
    "    \n",
    "    return metrics.accuracy_score(test_p, test_df[label])\n",
    "    \n",
    " \n",
    "#Initialize a results dictionary\n",
    "res = dict()\n",
    "for s in min_samples_split_values:\n",
    "    res[s] = list()\n",
    "\n",
    "#Now train and get results for each option\n",
    "for s in min_samples_split_values:\n",
    "    for l in min_samples_leaf_values:\n",
    "        res[s].append(testTrees(train_df, test_df, label, s, l))    \n",
    "\n"
   ]
  },
  {
   "cell_type": "code",
   "execution_count": 43,
   "metadata": {
    "collapsed": false
   },
   "outputs": [
    {
     "data": {
      "text/plain": [
       "<matplotlib.text.Text at 0x10cc516d0>"
      ]
     },
     "execution_count": 43,
     "metadata": {},
     "output_type": "execute_result"
    },
    {
     "data": {
      "image/png": "[encoded data removed]",
      "text/plain": [
       "<matplotlib.figure.Figure at 0x10c197510>"
      ]
     },
     "metadata": {},
     "output_type": "display_data"
    }
   ],
   "source": [
    "#Now we'll plot the results of above\n",
    "def r():\n",
    "    return np.random.rand()\n",
    "\n",
    "#Now plot            \n",
    "fig = plt.figure(figsize = (15, 6))\n",
    "ax = fig.add_subplot(111)\n",
    "\n",
    "for s in min_samples_split_values:\n",
    "    plt.plot(np.log2(min_samples_leaf_values), res[s], \n",
    "             color=(r(),r(),r()), label='Split={}'.format(np.floor(s)))\n",
    "\n",
    "box = ax.get_position()\n",
    "ax.set_position([box.x0, box.y0, box.width * 0.8, box.height])\n",
    "\n",
    "# Put a legend to the right of the current axis\n",
    "ax.legend(loc='center left', bbox_to_anchor=(1, 0.5))\n",
    "#plt.legend(loc=4, ncol=3, mode=\"expand\")\n",
    "ax.set_xlabel('Min Leaf Size - Log2')\n",
    "ax.set_ylabel('Test Set Accuracy')\n",
    "plt.title('Holdout Accuracy by Hyperparameters')"
   ]
  },
  {
   "cell_type": "markdown",
   "metadata": {},
   "source": [
    "4\\. Which configuration returns the best accuracy? What is this accuracy? (Note, if you don't see much variation in the test set accuracy across values of min_samples_split or min_samples_leaf, try redoing the above steps with a different range of values).\n",
    "\n",
    "(1 Point)"
   ]
  },
  {
   "cell_type": "markdown",
   "metadata": {
    "collapsed": true
   },
   "source": [
    "<p>\n",
    "<span style=\"color:red\">\n",
    "\n",
    "\n",
    "The optimal test set accuracy will of course depend on the exact parameters chosen so we cannot say we find the true theoretical optimal configuration. Nonetheless, we see best results where Log2(Leaf Size) = 6 and Split size = 4096. Overall, when Split is high and Leaf size is in the mid range we get consistent and good results. The best accuracy is between 59-60%.\n",
    "\n",
    "</span>\n",
    "\n",
    "</p>"
   ]
  },
  {
   "cell_type": "markdown",
   "metadata": {},
   "source": [
    "5\\. If you were working for a marketing department, how would you use your churn production model in a real business environment? Explain why churn prediction might be good for the business and how one might improve churn by using this model.\n",
    "\n",
    "(2 Points)"
   ]
  },
  {
   "cell_type": "markdown",
   "metadata": {},
   "source": [
    "<p>\n",
    "<span style=\"color:red\">\n",
    "\n",
    "Customer churn is a negative outcome for a business, as it both reduces revenues and it increases the chance that customers might give negative reviews of the service. The negative reviews can then influence other customers to churn or prevent other customers from signing up. It is important for the business to predict churn to design marketing strategies that focus on those who are most at risk of churning.  There are both short and long term strategies to be employed here.\n",
    "\n",
    "In the short term, the company might want to find the most likely churners and offer some special incentive to convince them to stay with the company. An example might be a discount on a new phone or more minutes for the same price.\n",
    "\n",
    "For the long-term strategy, the company can use the churn model to better understand the drivers of churn.  With this understanding the company can think of ways to better improve the customer experience so that churn is prevented even before there is a direct intervention. \n",
    "\n",
    "</span>\n",
    "\n",
    "\n",
    "</p>"
   ]
  },
  {
   "cell_type": "code",
   "execution_count": null,
   "metadata": {
    "collapsed": true
   },
   "outputs": [],
   "source": []
  }
 ],
 "metadata": {
  "kernelspec": {
   "display_name": "Python 2",
   "language": "python",
   "name": "python2"
  },
  "language_info": {
   "codemirror_mode": {
    "name": "ipython",
    "version": 2
   },
   "file_extension": ".py",
   "mimetype": "text/x-python",
   "name": "python",
   "nbconvert_exporter": "python",
   "pygments_lexer": "ipython2",
   "version": "2.7.9"
  }
 },
 "nbformat": 4,
 "nbformat_minor": 0
}
