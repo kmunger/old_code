{
 "cells": [
  {
   "cell_type": "markdown",
   "metadata": {},
   "source": [
    "# Introduction to Data Science\n",
    "## Homework 4 "
   ]
  },
  {
   "cell_type": "markdown",
   "metadata": {},
   "source": [
    "Student Name: \n",
    "\n",
    "Student Netid:\n",
    "***"
   ]
  },
  {
   "cell_type": "markdown",
   "metadata": {},
   "source": [
    "### Part 1: Profit\n",
    "1\\. Imagine that you work for an online advertising company that has just been hired to advertise a new local restaurant online. Let's say that it costs \\$0.015 to present a coupon ad to online consumers. If a consumer cashes in your coupon, you stand to earn \\$5. Given this information, what would your cost/benefit matrix be?  Explain your reasoning briefly."
   ]
  },
  {
   "cell_type": "code",
   "execution_count": null,
   "metadata": {
    "collapsed": false
   },
   "outputs": [],
   "source": [
    "import pandas as pd\n",
    "cost_matrix = pd.DataFrame([[None, None], [None, None]], columns=['p', 'n'], index=['Y', 'N'])\n",
    "\n",
    "# Don't delete this line\n",
    "print cost_matrix"
   ]
  },
  {
   "cell_type": "markdown",
   "metadata": {},
   "source": [
    "Explanation here!"
   ]
  },
  {
   "cell_type": "markdown",
   "metadata": {},
   "source": [
    "### Part 2: Basic evaluations\n",
    "For this part of the assignment, we are going to use a churn data set located in `data/churn.csv`. The first 11 columns are predictor variables.\n",
    "\n",
    "```\n",
    "COLLEGE                       college educated?\n",
    "INCOME                        income\n",
    "OVERAGE                       average overcharges per month\n",
    "LEFTOVER                      average % leftover minutes per month\n",
    "HOUSE                         value of dwelling (from census tract)\n",
    "HANDSET_PRICE                 cost of phone\n",
    "OVER_15MINS_CALLS_PER_MONTH   average number of long calls per month\n",
    "AVERAGE_CALL_DURATION         average call duration\n",
    "REPORTED_SATISFACTION         reported level of satisfaction\n",
    "REPORTED_USAGE_LEVEL          self-reported usage level\n",
    "CONSIDERING_CHANGE_OF_PLAN    was customer considering changing plan?\n",
    "```\n",
    "\n",
    "The last column, `LEAVE`, is the target variable that equals one if the user left and zero if they stayed."
   ]
  },
  {
   "cell_type": "markdown",
   "metadata": {},
   "source": [
    "1\\. Load the data into a pandas `DataFrame()`."
   ]
  },
  {
   "cell_type": "code",
   "execution_count": null,
   "metadata": {
    "collapsed": false
   },
   "outputs": [],
   "source": [
    "import pandas as pd\n",
    "data = None"
   ]
  },
  {
   "cell_type": "markdown",
   "metadata": {},
   "source": [
    "2\\. Three of the columns, `REPORTED_SATISFACTION`, `REPORTED_USAGE_LEVEL`, and `CONSIDERING_CHANGE_OF_PLAN` are categorical variables. Use the techniques we discussed in class to turn these into dummy variables."
   ]
  },
  {
   "cell_type": "code",
   "execution_count": null,
   "metadata": {
    "collapsed": false
   },
   "outputs": [],
   "source": [
    "# Code here"
   ]
  },
  {
   "cell_type": "markdown",
   "metadata": {},
   "source": [
    "3\\. Put all of the predictors into a data frame called `X` and the target variable in a data frame called `Y`."
   ]
  },
  {
   "cell_type": "code",
   "execution_count": null,
   "metadata": {
    "collapsed": false
   },
   "outputs": [],
   "source": [
    "X = None\n",
    "Y = None"
   ]
  },
  {
   "cell_type": "markdown",
   "metadata": {},
   "source": [
    "3\\. Create `LogisticRegression()` and `DecisionTreeClassifier()` models. For the decision tree, use `criterion=\"entropy\"`. For all other settings, keep the default values. Use 3-fold cross validation to obtain the accuracy and area under the ROC curve for both models."
   ]
  },
  {
   "cell_type": "code",
   "execution_count": null,
   "metadata": {
    "collapsed": false
   },
   "outputs": [],
   "source": [
    "# There will be necessary\n",
    "from sklearn.linear_model import LogisticRegression\n",
    "from sklearn.tree import DecisionTreeClassifier\n",
    "\n",
    "# These will be useful\n",
    "import numpy as np\n",
    "from sklearn import metrics\n",
    "from sklearn import cross_validation\n",
    "\n",
    "# You should store your output in these variables\n",
    "lr_accuracy = None\n",
    "lr_auc = None\n",
    "tree_accuracy = None\n",
    "tree_auc = None\n",
    "\n",
    "# These lines will be used for grading. Ensure they print what they should.\n",
    "print \"Logistic regression: Accuracy = %.3f, AUC = %.3f\" % (lr_accuracy, lr_auc)\n",
    "print \"Tree regression: Accuracy = %.3f, AUC = %.3f\" % (tree_accuracy, tree_auc)"
   ]
  },
  {
   "cell_type": "markdown",
   "metadata": {},
   "source": [
    "4\\. What measure from above do you think gives a better assessment of model quality? Explain why in **one paragraph**."
   ]
  },
  {
   "cell_type": "markdown",
   "metadata": {},
   "source": [
    "Answer here!"
   ]
  },
  {
   "cell_type": "markdown",
   "metadata": {},
   "source": [
    "5\\. Create `LogisticRegression()` and `DecisionTreeClassifier()` models. For the logistic regression find the optimal value for regularization (`C`) using 3-fold cross validation and AUC. Use the same procedure to find the optimal value of `min_samples_split` for the decision tree classifier. For each of these values, try 10 different choices. To show your results, create two plots that show the value of AUC on the y-axis and the parameter values you tried on the x-axis. **Don't forget to label your axes!** Store your best value of C in `best_c` and your best `min_samples_split` in `best_mss`."
   ]
  },
  {
   "cell_type": "code",
   "execution_count": null,
   "metadata": {
    "collapsed": true
   },
   "outputs": [],
   "source": [
    "# Run this so your plots show properly\n",
    "import matplotlib.pyplot as plt\n",
    "%matplotlib inline\n",
    "plt.rcParams['figure.figsize'] = 10, 8"
   ]
  },
  {
   "cell_type": "code",
   "execution_count": null,
   "metadata": {
    "collapsed": false
   },
   "outputs": [],
   "source": [
    "# Code to test and create a plot for LogisticRegression() here\n",
    "\n",
    "best_c = None"
   ]
  },
  {
   "cell_type": "code",
   "execution_count": null,
   "metadata": {
    "collapsed": false
   },
   "outputs": [],
   "source": [
    "# Code to test and create a plot for DecisionTreeClassifier() here\n",
    "\n",
    "best_mss = None"
   ]
  },
  {
   "cell_type": "markdown",
   "metadata": {},
   "source": [
    "6\\. Split your data into testing and training sets. Give the training set 75% of the data. Using the best parameters from the previous question, plot the ROC curve for both classifier in the same plot. Make sure your plot has a legend so that you can tell which curve related to which classifier. In addition, place the area under the ROC curve in the legend. **Don't forget to label your axes!** Discuss your observations."
   ]
  },
  {
   "cell_type": "code",
   "execution_count": null,
   "metadata": {
    "collapsed": false
   },
   "outputs": [],
   "source": [
    "from sklearn.cross_validation import train_test_split\n",
    "\n",
    "X_train, X_test, Y_train, Y_test = None\n",
    "\n",
    "# Code here!"
   ]
  },
  {
   "cell_type": "markdown",
   "metadata": {},
   "source": [
    "Discussion here!"
   ]
  },
  {
   "cell_type": "markdown",
   "metadata": {},
   "source": [
    "### Part 3: Profits, benefits, and costs\n",
    "For these questions, we are going to use the same data from above."
   ]
  },
  {
   "cell_type": "markdown",
   "metadata": {},
   "source": [
    "1\\. Despite all your retention efforts, customers still are leaving your company, and when a customer leaves the company incurs various costs.   The company has created a cost-reduction plan (CRP) for those who do churn, separate from the ongoing retention efforts.  The CRP will be targeted to those most likely to churn, based on a model you build.  If the plan is given to someone who indeed churns, the company's cost will be reduced by \\$15.  The cost of enacting the plan for a customer is \\$2.  What would your cost matrix be in this case?  Give a short explanation for your reasoning."
   ]
  },
  {
   "cell_type": "code",
   "execution_count": null,
   "metadata": {
    "collapsed": false
   },
   "outputs": [],
   "source": [
    "import pandas as pd\n",
    "cost_matrix = pd.DataFrame([[None, None], [None, None]], columns=['p', 'n'], index=['Y', 'N'])\n",
    "\n",
    "# Don't delete this line\n",
    "print cost_matrix"
   ]
  },
  {
   "cell_type": "markdown",
   "metadata": {},
   "source": [
    "Explanation here!"
   ]
  },
  {
   "cell_type": "markdown",
   "metadata": {},
   "source": [
    "2\\. Use the model from Part 2 Question 6 that gave the best AUC and use it to plot a profit curve."
   ]
  },
  {
   "cell_type": "code",
   "execution_count": null,
   "metadata": {
    "collapsed": false
   },
   "outputs": [],
   "source": [
    "import matplotlib.pyplot as plt\n",
    "%matplotlib inline\n",
    "plt.rcParams['figure.figsize'] = 10, 8\n",
    "\n",
    "# Code here"
   ]
  },
  {
   "cell_type": "markdown",
   "metadata": {},
   "source": [
    "3\\. Approximately how many of your customers would you target?"
   ]
  },
  {
   "cell_type": "markdown",
   "metadata": {},
   "source": [
    "Answer here!"
   ]
  }
 ],
 "metadata": {
  "kernelspec": {
   "display_name": "Python 2",
   "language": "python",
   "name": "python2"
  },
  "language_info": {
   "codemirror_mode": {
    "name": "ipython",
    "version": 2
   },
   "file_extension": ".py",
   "mimetype": "text/x-python",
   "name": "python",
   "nbconvert_exporter": "python",
   "pygments_lexer": "ipython2",
   "version": "2.7.9"
  }
 },
 "nbformat": 4,
 "nbformat_minor": 0
}
