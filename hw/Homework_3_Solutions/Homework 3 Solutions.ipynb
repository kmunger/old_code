{
 "cells": [
  {
   "cell_type": "markdown",
   "metadata": {},
   "source": [
    "# Introduction to Data Science\n",
    "## Homework 3 Solutions"
   ]
  },
  {
   "cell_type": "markdown",
   "metadata": {},
   "source": [
    "Student Name: Solutions\n",
    "\n",
    "Student Netid: Solutions\n",
    "***"
   ]
  },
  {
   "cell_type": "markdown",
   "metadata": {},
   "source": [
    "### Part 1\n",
    "Assume that $X$ and $Y$ are discrete random variables. The formulas for Mutual Information, Entropy, and Conditional Entropy are given by:\n",
    "\n",
    "$$\\text{Mutual Information} = \\sum_{y \\in Y} \\sum_{x \\in X} p(x, y) \\cdot log\\frac{p(x, y)}{p(x)p(y)}$$\n",
    "\n",
    "$$\\text{Entropy} = H(Y) = -\\sum_{y \\in Y} p(y) \\cdot log(p(y))$$\n",
    "\n",
    "$$\\text{Conditional Entropy} = H(Y \\mid X) = \\sum_{x \\in X} p(x) \\cdot H(Y \\mid X = x)$$\n",
    "\n",
    "Show mathematically that $\\text{Mutual Information} = \\text{Information Gain}$, where $\\text{Information Gain} = H(Y) – H(Y \\mid X)$. Give the derivation below.  "
   ]
  },
  {
   "cell_type": "markdown",
   "metadata": {},
   "source": [
    "$$\\sum_{y \\in Y} \\sum_{x \\in X} p(x, y) \\cdot log\\frac{p(x, y)}{p(x)p(y)} = -\\sum_{y \\in Y} p(y) \\cdot log(p(y)) - \\sum_{x \\in X} p(x) \\cdot H(Y \\mid X = x)$$\n",
    "\n",
    "$$\\sum_{y \\in Y} \\sum_{x \\in X} p(x, y) \\cdot log\\frac{p(x, y)}{p(x)} - \\sum_{y \\in Y} \\sum_{x \\in X} p(x, y) \\cdot log(p(y)) = ...$$\n",
    "\n",
    "$$\\sum_{y \\in Y} \\sum_{x \\in X} p(y \\mid x) p(x) log(p(y \\mid x)) - \\sum_{y \\in Y} \\sum_{x \\in X} p(x, y) \\cdot log(p(y)) = ...$$\n",
    "\n",
    "$$\\sum_{x \\in X} p(x) \\sum_{y \\in Y} p(y \\mid x) log(p(y \\mid x)) - \\sum_{y \\in Y} p(y) \\cdot log(p(y)) = ...$$\n",
    "\n",
    "$$-\\sum_{x \\in X} p(x) H(Y \\mid X=x) + H(Y) = ...$$\n",
    "\n",
    "$$ H(Y) - H(Y \\mid X) = ...$$"
   ]
  },
  {
   "cell_type": "markdown",
   "metadata": {},
   "source": [
    "### Part 2\n",
    "1\\. Label each case as describing either data mining `(DM)`, or the use of the results of data mining `(USE)`.  [Replace `(ANS)` below.]"
   ]
  },
  {
   "cell_type": "markdown",
   "metadata": {},
   "source": [
    "a) `(USE)` Choose customers who are most likely to respond to an on-line ad.\n",
    "\n",
    "b) `(DM)` Discover rules that indicate when an account has been defrauded.\n",
    "\n",
    "c) `(DM)` Find patterns indicating what customer behavior is more likely to lead to response to an on-line ad.\n",
    "\n",
    "d) `(USE)` Estimate probability of default for a credit application.\n",
    "\n",
    "e) `(USE)` Predict whether a customer is pregnant"
   ]
  },
  {
   "cell_type": "markdown",
   "metadata": {},
   "source": [
    "2\\. Plumbing Inc. has been selling plumbing supplies for the last 20 years. The owner, Joe, decides that next year it is finally time to diversify by adding gardening tools to his products. Having had success using customer data to build predictive models to guide direct mail campaigns for special plumbing offers, he considers that data mining could help him to identify a subset of customers who should be good prospects for his new set of products. Is Joe ready to solve this as a supervised learning problem? What would you suggest as the target variable?  Be precise. Is there anything else that you would recommend that Joe do to achieve his business goal?"
   ]
  },
  {
   "cell_type": "markdown",
   "metadata": {},
   "source": [
    "Pleace your answer here."
   ]
  },
  {
   "cell_type": "markdown",
   "metadata": {},
   "source": [
    "### Part 3\n",
    "This is a hands-on task where we build a tree-structured predictive model as discussed in class and in the book. For this part, we will be using the data in `data/cell2cell_data_80_percent.csv`.\n",
    "\n",
    "These historical data consist of 31,892 customers: 15,855 customers that churned (i.e., left the company) and 16,036 that did not churn (see the `\"churndep\"` variable). Here are the data set's 11 attributes describing the customers: \n",
    "\n",
    "```\n",
    "Pos.  Var. Name  Var. Description\n",
    "----- ---------- --------------------------------------------------------------\n",
    "1     revenue    Mean monthly revenue in dollars\n",
    "2     outcalls   Mean number of outbound voice calls\n",
    "3     incalls    Mean number of inbound voice calls\n",
    "4     months     Months in Service\n",
    "5     eqpdays    Number of days the customer has had his/her current equipment\n",
    "6     webcap     Handset is web capable\n",
    "7     marryyes   Married (1=Yes; 0=No)\n",
    "8     travel     Has traveled to non-US country (1=Yes; 0=No)\n",
    "9     pcown      Owns a personal computer (1=Yes; 0=No)\n",
    "10    creditcd   Possesses a credit card (1=Yes; 0=No)\n",
    "11    retcalls   Number of calls previously made to retention team\n",
    "```\n",
    "\n",
    "The 12th column, the target variable `\"churndep\"`, equals 1 if the customer churned, and 0 otherwise. \n",
    "\n",
    "**`VVV` VERY IMPORTANT NOTE `VVV`**\n",
    "\n",
    "**Don't forget to exclude the target variable `\"churndep\"` when fitting your models. You don't want to include the target when fitting!!!**"
   ]
  },
  {
   "cell_type": "markdown",
   "metadata": {},
   "source": [
    "1\\. Load the data into a pandas `DataFrame()`."
   ]
  },
  {
   "cell_type": "code",
   "execution_count": 1,
   "metadata": {
    "collapsed": true
   },
   "outputs": [],
   "source": [
    "import pandas as pd\n",
    "\n",
    "data = pd.read_csv(\"data/cell2cell_data_80_percent.csv\")"
   ]
  },
  {
   "cell_type": "markdown",
   "metadata": {},
   "source": [
    "2\\. Using the following two functions for Entropy and Information Gain (don't forget to run this cell!), figure out what is the maximum information gain for each feature. Make a bar plot with feature names along the x-axis and maximum information gain on the y-axis. Which one is the largest? Don't forget some of the features are binary."
   ]
  },
  {
   "cell_type": "code",
   "execution_count": 2,
   "metadata": {
    "collapsed": true
   },
   "outputs": [],
   "source": [
    "import numpy as np\n",
    "import math\n",
    "\n",
    "def entropy(target):\n",
    "    # Get the number of users\n",
    "    n = len(target)\n",
    "    # Count how frequently each unique value occurs\n",
    "    counts = np.bincount(target).astype(float)\n",
    "    # Initialize entropy\n",
    "    entropy = 0\n",
    "    # If the split is perfect, return 0\n",
    "    if len(counts) <= 1 or 0 in counts:\n",
    "        return entropy\n",
    "    # Otherwise, for each possible value, update entropy\n",
    "    for count in counts:\n",
    "        entropy += math.log(count/n, len(counts)) * count/n\n",
    "    # Return entropy\n",
    "    return -1 * entropy\n",
    "\n",
    "def information_gain(feature, threshold, target):\n",
    "    '''\n",
    "    This function takes three things:\n",
    "    feature - A list of all the possible values this feature has, e.g. data['revenue']\n",
    "    threshold - A number to threshold a continuous variable on, e.g. 1.2\n",
    "    target - A list of all the target values in the same order as feature, e.g. data['churndep']\n",
    "    '''\n",
    "    # Dealing with numpy arrays makes this slightly easier\n",
    "    target = np.array(target)\n",
    "    feature = np.array(feature)\n",
    "    # Record if the feature vector is above the threshold\n",
    "    feature = (feature <= threshold)\n",
    "    # Initialize information gain with the parent entropy\n",
    "    ig = entropy(target)\n",
    "    # For both sides of the threshold, update information gain\n",
    "    for level, count in zip([0, 1], np.bincount(feature).astype(float)):\n",
    "        ig -= count/len(feature) * entropy(target[feature == level])\n",
    "    # Return information gain\n",
    "    return ig"
   ]
  },
  {
   "cell_type": "code",
   "execution_count": 4,
   "metadata": {
    "collapsed": false
   },
   "outputs": [
    {
     "data": {
      "image/png": "[encoded data removed]",
      "text/plain": [
       "<matplotlib.figure.Figure at 0x10d24a590>"
      ]
     },
     "metadata": {},
     "output_type": "display_data"
    }
   ],
   "source": [
    "import matplotlib.pyplot as plt\n",
    "%matplotlib inline\n",
    "\n",
    "features = []\n",
    "igs = []\n",
    "\n",
    "for feature in data.columns:\n",
    "    if feature != 'churndep':\n",
    "        max_ig = 0\n",
    "        max_th = 0\n",
    "        # Iterate through all values and use as thresholds\n",
    "        for threshold in list(set(data[feature])):\n",
    "            # Get IG at this threshold\n",
    "            ig = information_gain(data[feature], threshold, data['churndep'])\n",
    "            \n",
    "            # If this is the largest, keep it, if not, ignore\n",
    "            if ig > max_ig:\n",
    "                max_ig = ig\n",
    "\n",
    "        # Maintain a list of feature names and IGs\n",
    "        features.append(feature)\n",
    "        igs.append(max_ig)\n",
    "\n",
    "# Use the lists we created to plot\n",
    "plt.bar(range(len(features)), igs)\n",
    "plt.xticks(range(len(features)), features, rotation=45)\n",
    "plt.show()"
   ]
  },
  {
   "cell_type": "markdown",
   "metadata": {},
   "source": [
    "3\\. Now build and fit a tree-structured model using `DecisionTreeClassifier()` [(manual page)](http://scikit-learn.org/stable/modules/generated/sklearn.tree.DecisionTreeClassifier.html) using the 11 attributes to predict the `\"churndep\"` target variable. Make sure to use `criterion='entropy'` when instantiating an instance of `DecisionTreeClassifier()`. For all other settings you should use the default options (this means you don't have to set anything).\n",
    "\n",
    "**Remember, don't forget to exclude the target variable `\"churndep\"` when fitting your models. You don't want to fit on the target!!!**"
   ]
  },
  {
   "cell_type": "code",
   "execution_count": 2,
   "metadata": {
    "collapsed": false
   },
   "outputs": [
    {
     "data": {
      "text/plain": [
       "DecisionTreeClassifier(compute_importances=None, criterion='entropy',\n",
       "            max_depth=None, max_features=None, max_leaf_nodes=None,\n",
       "            min_density=None, min_samples_leaf=1, min_samples_split=2,\n",
       "            random_state=None, splitter='best')"
      ]
     },
     "execution_count": 2,
     "metadata": {},
     "output_type": "execute_result"
    }
   ],
   "source": [
    "import sklearn\n",
    "from sklearn.tree import DecisionTreeClassifier\n",
    "\n",
    "tree = DecisionTreeClassifier(criterion=\"entropy\")\n",
    "tree.fit(data.drop(['churndep'], axis=1), data['churndep'])"
   ]
  },
  {
   "cell_type": "markdown",
   "metadata": {},
   "source": [
    "4\\. Load in another data set `data/cell2cell_data_20_percent.csv`. This data is of the same format as the other file we read in. Using the classifier built and fit in 3.3, predict `\"churndep\"` on the original data and the new data that you just loaded in. How well does it predict? (I.e., what is the accuracy on both data sets?)"
   ]
  },
  {
   "cell_type": "code",
   "execution_count": 3,
   "metadata": {
    "collapsed": false
   },
   "outputs": [
    {
     "name": "stdout",
     "output_type": "stream",
     "text": [
      "Original and new tree accuracy = 0.9998 and 0.5346\n"
     ]
    }
   ],
   "source": [
    "import pandas as pd\n",
    "from sklearn import metrics\n",
    "\n",
    "data_new = pd.read_csv(\"data/cell2cell_data_20_percent.csv\")\n",
    "\n",
    "tree_original_accuracy = metrics.accuracy_score(tree.predict(data.drop(['churndep'], axis=1)), data['churndep'])\n",
    "tree_new_accuracy = metrics.accuracy_score(tree.predict(data_new.drop(['churndep'], axis=1)), data_new['churndep'])\n",
    "\n",
    "# This lines will be used for grading. DO NOT REMOVE IT. Make sure it prints out the correct value!!!\n",
    "print \"Original and new tree accuracy = %.4f and %.4f\" % (tree_original_accuracy, tree_new_accuracy)"
   ]
  },
  {
   "cell_type": "markdown",
   "metadata": {},
   "source": [
    "### Part 4\n",
    "The default options for your decision tree may not be optimal. We need to analyze whether tuning the parameters can improve the accuracy of the classifier.  For the following options `max_depth`, `min_samples_split`, and `min_samples_leaf`:"
   ]
  },
  {
   "cell_type": "markdown",
   "metadata": {},
   "source": [
    "1\\. Generate a range of 10 values of each that make sense to test"
   ]
  },
  {
   "cell_type": "code",
   "execution_count": 7,
   "metadata": {
    "collapsed": true
   },
   "outputs": [],
   "source": [
    "min_samples_split_values = [1, 10, 50, 100, 200, 500, 1000, 5000, 10000, 15000]\n",
    "min_samples_leaf_values = [1, 10, 50, 100, 200, 500, 1000, 5000, 10000, 15000]\n",
    "max_depth_values = range(1, 11)"
   ]
  },
  {
   "cell_type": "markdown",
   "metadata": {},
   "source": [
    "2\\. For the values of `max_depth`, `min_samples_split`, and `min_samples_leaf` you chose in 4.1 build a new decision tree classifier (on the original data we read in, the variable `data`) and record the classifier's accuracy on both the original data (the variable `data`) and the new data we read in (the variable `data_new`). You should now generate three plots, each with 10 points for the original data and 10 points for the new data. The values you chose are on the x-axis, the accuracies you calculated are on the y-axis, and there will be two lines/curves per plot (one for `data` and the other for `data_new`)."
   ]
  },
  {
   "cell_type": "code",
   "execution_count": 8,
   "metadata": {
    "collapsed": true
   },
   "outputs": [],
   "source": [
    "import matplotlib.pyplot as plt\n",
    "%matplotlib inline"
   ]
  },
  {
   "cell_type": "code",
   "execution_count": 9,
   "metadata": {
    "collapsed": false
   },
   "outputs": [
    {
     "data": {
      "text/plain": [
       "<matplotlib.legend.Legend at 0x10e3c3910>"
      ]
     },
     "execution_count": 9,
     "metadata": {},
     "output_type": "execute_result"
    },
    {
     "data": {
      "image/png": "[encoded data removed]",
      "text/plain": [
       "<matplotlib.figure.Figure at 0x10e3c3990>"
      ]
     },
     "metadata": {},
     "output_type": "display_data"
    }
   ],
   "source": [
    "accuracies = []\n",
    "accuracies_new = []\n",
    "for value in min_samples_split_values:\n",
    "    tree = DecisionTreeClassifier(min_samples_split=value, criterion=\"entropy\")\n",
    "    tree.fit(data.drop(['churndep'], axis=1), data['churndep'])\n",
    "    accuracies.append(metrics.accuracy_score(tree.predict(data.drop(['churndep'], axis=1)), data['churndep']))\n",
    "    accuracies_new.append(metrics.accuracy_score(tree.predict(data_new.drop(['churndep'], axis=1)), data_new['churndep']))\n",
    "\n",
    "plt.plot(min_samples_split_values, accuracies, label=\"original\")\n",
    "plt.plot(min_samples_split_values, accuracies_new, label=\"new\")\n",
    "plt.legend()"
   ]
  },
  {
   "cell_type": "code",
   "execution_count": 10,
   "metadata": {
    "collapsed": false
   },
   "outputs": [
    {
     "data": {
      "text/plain": [
       "<matplotlib.legend.Legend at 0x10ca92bd0>"
      ]
     },
     "execution_count": 10,
     "metadata": {},
     "output_type": "execute_result"
    },
    {
     "data": {
      "image/png": "[encoded data removed]",
      "text/plain": [
       "<matplotlib.figure.Figure at 0x10ca92b10>"
      ]
     },
     "metadata": {},
     "output_type": "display_data"
    }
   ],
   "source": [
    "accuracies = []\n",
    "accuracies_new = []\n",
    "for value in min_samples_leaf_values:\n",
    "    tree = DecisionTreeClassifier(min_samples_leaf=value, criterion=\"entropy\")\n",
    "    tree.fit(data.drop(['churndep'], axis=1), data['churndep'])\n",
    "    accuracies.append(metrics.accuracy_score(tree.predict(data.drop(['churndep'], axis=1)), data['churndep']))\n",
    "    accuracies_new.append(metrics.accuracy_score(tree.predict(data_new.drop(['churndep'], axis=1)), data_new['churndep']))\n",
    "\n",
    "plt.plot(min_samples_leaf_values, accuracies, label=\"original\")\n",
    "plt.plot(min_samples_leaf_values, accuracies_new, label=\"new\")\n",
    "plt.legend()"
   ]
  },
  {
   "cell_type": "code",
   "execution_count": 11,
   "metadata": {
    "collapsed": false
   },
   "outputs": [
    {
     "data": {
      "text/plain": [
       "<matplotlib.legend.Legend at 0x10efc3910>"
      ]
     },
     "execution_count": 11,
     "metadata": {},
     "output_type": "execute_result"
    },
    {
     "data": {
      "image/png": "[encoded data removed]",
      "text/plain": [
       "<matplotlib.figure.Figure at 0x10edba2d0>"
      ]
     },
     "metadata": {},
     "output_type": "display_data"
    }
   ],
   "source": [
    "accuracies = []\n",
    "accuracies_new = []\n",
    "for value in max_depth_values:\n",
    "    tree = DecisionTreeClassifier(max_depth=value, criterion=\"entropy\")\n",
    "    tree.fit(data.drop(['churndep'], axis=1), data['churndep'])\n",
    "    accuracies.append(metrics.accuracy_score(tree.predict(data.drop(['churndep'], axis=1)), data['churndep']))\n",
    "    accuracies_new.append(metrics.accuracy_score(tree.predict(data_new.drop(['churndep'], axis=1)), data_new['churndep']))\n",
    "\n",
    "plt.plot(max_depth_values, accuracies, label=\"original\")\n",
    "plt.plot(max_depth_values, accuracies_new, label=\"new\")\n",
    "plt.legend()"
   ]
  },
  {
   "cell_type": "markdown",
   "metadata": {},
   "source": [
    "3\\. Now that you have read Chapter 4 of your textbook, let's try fitting some linear models: a logistic regression (`sklearn.linear_model.LogisticRegression()`, [manual](http://scikit-learn.org/stable/modules/generated/sklearn.linear_model.LogisticRegression.html)) and SVM (`sklearn.svm.LinearSVC()`, [manual](http://scikit-learn.org/stable/modules/generated/sklearn.svm.LinearSVC.html)). For each of these models, fit them on the first set of data we read in (the variable `data`) and report the accuracy on both sets of data we read in (`data` and `data_new`). When fitting each model, you should keep all parameters as their defaults."
   ]
  },
  {
   "cell_type": "code",
   "execution_count": 5,
   "metadata": {
    "collapsed": false
   },
   "outputs": [
    {
     "name": "stdout",
     "output_type": "stream",
     "text": [
      "Original and new logistic regression accuracy = 0.5618 and 0.5595\n",
      "Original and new SVM accuracy = 0.5159 and 0.5212\n"
     ]
    }
   ],
   "source": [
    "from sklearn.linear_model import LogisticRegression\n",
    "from sklearn.svm import LinearSVC\n",
    "\n",
    "lr = LogisticRegression()\n",
    "lr = lr.fit(data.drop(['churndep'], axis=1), data['churndep'])\n",
    "\n",
    "svm = LinearSVC()\n",
    "svm = svm.fit(data.drop(['churndep'], axis=1), data['churndep'])\n",
    "\n",
    "logistic_regression_original_accuracy = metrics.accuracy_score(lr.predict(data.drop(['churndep'], axis=1)), data['churndep'])\n",
    "logistic_regression_new_accuracy = metrics.accuracy_score(lr.predict(data_new.drop(['churndep'], axis=1)), data_new['churndep'])\n",
    "svm_original_accuracy = metrics.accuracy_score(svm.predict(data.drop(['churndep'], axis=1)), data['churndep'])\n",
    "svm_new_accuracy = metrics.accuracy_score(svm.predict(data_new.drop(['churndep'], axis=1)), data_new['churndep'])\n",
    "\n",
    "# These lines will be used for grading. DO NOT REMOVE THEM. Make sure they print out the correct values!!!\n",
    "print \"Original and new logistic regression accuracy = %.4f and %.4f\" % (logistic_regression_original_accuracy, logistic_regression_new_accuracy)\n",
    "print \"Original and new SVM accuracy = %.4f and %.4f\" % (svm_original_accuracy, svm_new_accuracy)"
   ]
  }
 ],
 "metadata": {
  "kernelspec": {
   "display_name": "Python 2",
   "language": "python",
   "name": "python2"
  },
  "language_info": {
   "codemirror_mode": {
    "name": "ipython",
    "version": 2
   },
   "file_extension": ".py",
   "mimetype": "text/x-python",
   "name": "python",
   "nbconvert_exporter": "python",
   "pygments_lexer": "ipython2",
   "version": "2.7.8"
  }
 },
 "nbformat": 4,
 "nbformat_minor": 0
}
